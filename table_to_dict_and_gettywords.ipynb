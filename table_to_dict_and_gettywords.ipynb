{
 "metadata": {
  "name": "",
  "signature": "sha256:3126f2470d86041faf4d688c54b1520c11a4841e448f0c6a02b17a4129c835a9"
 },
 "nbformat": 3,
 "nbformat_minor": 0,
 "worksheets": [
  {
   "cells": [
    {
     "cell_type": "code",
     "collapsed": false,
     "input": [
      "ls\n"
     ],
     "language": "python",
     "metadata": {},
     "outputs": [
      {
       "output_type": "stream",
       "stream": "stdout",
       "text": [
        "gettysburg_address.txt  table.txt               table_to_dict.ipynb\r\n"
       ]
      }
     ],
     "prompt_number": 1
    },
    {
     "cell_type": "code",
     "collapsed": false,
     "input": [
      "table = {'ra':[],'dec':[],'name':[]}\n",
      "for line in file('table.txt'):\n",
      "    line = line.strip('\\n')\n",
      "    line = line.split(',')\n",
      "    if line[0] == 'ra':\n",
      "        continue\n",
      "    else:\n",
      "        table['ra'].append(line[0])\n",
      "        table['dec'].append(line[1])\n",
      "        table['name'].append(line[2])\n",
      "\n",
      "        \n",
      "    "
     ],
     "language": "python",
     "metadata": {},
     "outputs": [],
     "prompt_number": 9
    },
    {
     "cell_type": "code",
     "collapsed": false,
     "input": [
      "linecount = 0\n",
      "wordcount = 0\n",
      "a,e,i,o,u = 0,0,0,0,0\n",
      "all_words = []\n",
      "for line in file('gettysburg_address.txt'):\n",
      "    line=line.strip(\"\\n\")\n",
      "    if '--' in line:\n",
      "        line_2 = line.split('--')\n",
      "        line = ' '.join(line_2)\n",
      "    line = line.split()\n",
      "    linecount += 1\n",
      "    wordcount += len(line)\n",
      "    for k in range(len(line)):\n",
      "        line[k] = line[k].lower()\n",
      "        a += line[k].count('a')\n",
      "        e += line[k].count('e')\n",
      "        i += line[k].count('i')\n",
      "        o += line[k].count('o')\n",
      "        u += line[k].count('u')\n",
      "        all_words.append(line[k].strip(',').strip('.'))\n",
      "    \n",
      "all_words.sort()\n",
      "only_words = []\n",
      "for k in all_words:\n",
      "    if k in only_words:\n",
      "        continue\n",
      "    else:\n",
      "        only_words.append(k)\n",
      "print(\"Mr. Lincoln said {} words in {} lines\".format(wordcount, linecount))\n",
      "print(\"He used lots of vowels: \\n {} a's, {} e's, {} i's, {} o's, {} u's\".format(a,e,i,o,u))"
     ],
     "language": "python",
     "metadata": {},
     "outputs": [
      {
       "output_type": "stream",
       "stream": "stdout",
       "text": [
        "Mr. Lincoln said 267 words in 23 lines\n",
        "He used lots of vowels: \n",
        " 102 a's, 165 e's, 68 i's, 93 o's, 21 u's\n"
       ]
      }
     ],
     "prompt_number": 54
    },
    {
     "cell_type": "code",
     "collapsed": false,
     "input": [
      "print only_words"
     ],
     "language": "python",
     "metadata": {},
     "outputs": [
      {
       "output_type": "stream",
       "stream": "stdout",
       "text": [
        "['a', 'above', 'add', 'advanced', 'ago', 'all', 'altogether', 'and', 'any', 'are', 'as', 'battlefield', 'be', 'before', 'birth', 'brave', 'brought', 'but', 'by', 'can', 'cannot', 'cause', 'civil', 'come', 'conceived', 'consecrate', 'consecrated', 'continent', 'created', 'dead', 'dedicate', 'dedicated', 'detract', 'devotion', 'did', 'died', 'do', 'earth', 'endure', 'engaged', 'equal', 'far', 'fathers', 'field', 'final', 'fitting', 'for', 'forget', 'forth', 'fought', 'four', 'freedom', 'from', 'full', 'gave', 'god', 'government', 'great', 'ground', 'hallow', 'have', 'here', 'highly', 'honored', 'in', 'increased', 'is', 'it', 'larger', 'last', 'liberty', 'little', 'live', 'lives', 'living', 'long', 'measure', 'men', 'met', 'might', 'nation', 'never', 'new', 'nobly', 'nor', 'not', 'note', 'now', 'of', 'on', 'or', 'our', 'people', 'perish', 'poor', 'portion', 'power', 'proper', 'proposition', 'rather', 'remaining', 'remember', 'resolve', 'resting-place', 'say', 'score', 'sense', 'seven', 'shall', 'should', 'so', 'struggled', 'take', 'task', 'testing', 'that', 'the', 'their', 'these', 'they', 'this', 'those', 'thus', 'to', 'under', 'unfinished', 'us', 'vain', 'war', 'we', 'what', 'whether', 'which', 'who', 'will', 'work', 'world', 'years']\n"
       ]
      }
     ],
     "prompt_number": 55
    },
    {
     "cell_type": "code",
     "collapsed": false,
     "input": [
      "out = file('getty_words.txt', 'w')\n",
      "for w in only_words:\n",
      "    print >> out, w\n",
      "out.close()"
     ],
     "language": "python",
     "metadata": {},
     "outputs": [],
     "prompt_number": 56
    },
    {
     "cell_type": "code",
     "collapsed": false,
     "input": [],
     "language": "python",
     "metadata": {},
     "outputs": []
    }
   ],
   "metadata": {}
  }
 ]
}