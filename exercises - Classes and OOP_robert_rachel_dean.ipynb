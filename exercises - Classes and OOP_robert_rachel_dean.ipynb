{
 "metadata": {
  "name": "",
  "signature": "sha256:0a71576755e9d8045ab7fb34dfaf9f33486a2105badf69e07e0781cc3cf23d0a"
 },
 "nbformat": 3,
 "nbformat_minor": 0,
 "worksheets": [
  {
   "cells": [
    {
     "cell_type": "markdown",
     "metadata": {},
     "source": [
      "__1.1)__ Create a class to represent a 2D point in space. The initializer should accept 2 inputs -- an `x` and a `y` coordinate -- and store those values as attributes of the object."
     ]
    },
    {
     "cell_type": "code",
     "collapsed": false,
     "input": [],
     "language": "python",
     "metadata": {},
     "outputs": []
    },
    {
     "cell_type": "markdown",
     "metadata": {},
     "source": [
      "__1.2)__ Add a method of the class called `distance_to()` that accepts another point object, and returns the Euclidean distance between the two points. Add a check to this method to make sure `point2` is a `Point2D` object."
     ]
    },
    {
     "cell_type": "code",
     "collapsed": false,
     "input": [],
     "language": "python",
     "metadata": {},
     "outputs": []
    },
    {
     "cell_type": "code",
     "collapsed": false,
     "input": [],
     "language": "python",
     "metadata": {},
     "outputs": []
    },
    {
     "cell_type": "markdown",
     "metadata": {},
     "source": [
      "__1.3)__ Generalize the class so it can handle an arbitrary number of dimensions. _hint: you can use `*args` to accept a variable number of arguments_"
     ]
    },
    {
     "cell_type": "code",
     "collapsed": false,
     "input": [],
     "language": "python",
     "metadata": {},
     "outputs": []
    },
    {
     "cell_type": "code",
     "collapsed": false,
     "input": [],
     "language": "python",
     "metadata": {},
     "outputs": []
    },
    {
     "cell_type": "code",
     "collapsed": false,
     "input": [],
     "language": "python",
     "metadata": {},
     "outputs": []
    },
    {
     "cell_type": "markdown",
     "metadata": {},
     "source": [
      "__2)__ Write a `Person` class and an `AddressBook` class. You should be able to add and remove people from the address book by passing in `Person` objects. If you search for a phone number, or persons name, it should return their address."
     ]
    },
    {
     "cell_type": "code",
     "collapsed": false,
     "input": [],
     "language": "python",
     "metadata": {},
     "outputs": []
    },
    {
     "cell_type": "markdown",
     "metadata": {},
     "source": [
      "__3)__ Write a class to represent a vending machine. Keep track of the prices of each item, and how much money has been put in to the machine. The following code should work when you're done:\n",
      "\n",
      "    vm = VendingMachine()\n",
      "    vm.restock(\"water\", quantity=5, price=1.50)\n",
      "    vm.restock(\"iced tea\", quantity=10, price=2.50)\n",
      "    vm.restock(\"soda\", quantity=12, price=2.00)\n",
      "    \n",
      "    vm.vend(\"water\", 1.50)\n",
      "    print(vm.stock(\"water\")) # how many waters are left\n",
      "    \n",
      "    vm.vend(\"water\", 1.25) # should fail, and return the money to the user\n",
      "    vm.vend(\"water\", 1.75) # should work, and return 0.25 to the user\n",
      "    \n",
      "If the machine is out of a product, it should display a friendly message and fail to vend."
     ]
    },
    {
     "cell_type": "code",
     "collapsed": false,
     "input": [
      "class Drink(object):\n",
      "    \n",
      "    def __init__(self, name, quantity=0, price=1.50):\n",
      "        self.name = name  \n",
      "        self.quantity = quantity\n",
      "        self.price = price \n",
      "        \n",
      "class VendingMachine(object):\n",
      "    \n",
      "    def __init__(self):\n",
      "        self.ledgerbook = {}\n",
      "        print(\"You just bought a vending machine, you should restock it!\")\n",
      "        \n",
      "    def restock(self, name='water', quantity=5, price=1.50):\n",
      "        \n",
      "        if name.lower() in self.ledgerbook.keys():\n",
      "            self.ledgerbook[name.lower()].quantity = self.ledgerbook[name.lower()].quantity + quantity\n",
      "        else :\n",
      "            tasty_bev = Drink(name, quantity=quantity, price=price)\n",
      "            self.ledgerbook[tasty_bev.name.lower()] = tasty_bev\n",
      "    \n",
      "    def empty_item(self,name):\n",
      "        if name.lower() in self.ledgerbook.keys():\n",
      "            del  self.ledgerbook[name.lower()]\n",
      "        else:\n",
      "            print(\"You don't have any {} in your vending machine\".format(name))\n",
      "            \n",
      "    def vend(self, name, money):\n",
      "        if name.lower() in self.ledgerbook.keys() and self.ledgerbook[name.lower()].quantity > 0: \n",
      "            change = money-self.ledgerbook[name.lower()].price       \n",
      "            if money >= self.ledgerbook[name.lower()].price:\n",
      "                self.ledgerbook[name.lower()].quantity -= 1\n",
      "                print(\"Plop-thunk! \\n Here is your tasty {}!\".format(name))   \n",
      "                if change > 0:\n",
      "                    print(\"and here is ${} in change\".format(change))\n",
      "            else :\n",
      "                print(\"Please insert ${} more.\".format(abs(change))) \n",
      "                \n",
      "        else:\n",
      "            print(\"We don't have any {}, please make an alternative selection!\".format(name))\n",
      "            \n",
      "    def stock(self, name):\n",
      "        if name.lower() in self.ledgerbook.keys() and self.ledgerbook[name.lower()].quantity > 0: \n",
      "            print(\"We have {} of {} in stock\".format(self.ledgerbook[name.lower()].quantity, name))\n",
      "            return self.ledgerbook[name.lower()].quantity\n",
      "        else :\n",
      "            print(\"We are out of {}\".format(name))\n",
      "            return 0\n",
      "    "
     ],
     "language": "python",
     "metadata": {},
     "outputs": [],
     "prompt_number": 59
    },
    {
     "cell_type": "code",
     "collapsed": false,
     "input": [
      "lunchroom =  VendingMachine()\n"
     ],
     "language": "python",
     "metadata": {},
     "outputs": [
      {
       "output_type": "stream",
       "stream": "stdout",
       "text": [
        "You just bought a vending machine, you should restock it!\n"
       ]
      }
     ],
     "prompt_number": 54
    },
    {
     "cell_type": "code",
     "collapsed": false,
     "input": [
      "lunchroom.restock('Pepsi',5,1.00)"
     ],
     "language": "python",
     "metadata": {},
     "outputs": [],
     "prompt_number": 55
    },
    {
     "cell_type": "code",
     "collapsed": false,
     "input": [
      "print lunchroom.ledgerbook['water'].price\n",
      "print lunchroom.ledgerbook['water'].quantity"
     ],
     "language": "python",
     "metadata": {},
     "outputs": [
      {
       "output_type": "stream",
       "stream": "stdout",
       "text": [
        "1.0\n",
        "4\n"
       ]
      }
     ],
     "prompt_number": 50
    },
    {
     "cell_type": "code",
     "collapsed": false,
     "input": [
      "lunchroom.ledgerbook[/]"
     ],
     "language": "python",
     "metadata": {},
     "outputs": [
      {
       "metadata": {},
       "output_type": "pyout",
       "prompt_number": 30,
       "text": [
        "{'water': <__main__.Drink at 0x1070d3c90>}"
       ]
      }
     ],
     "prompt_number": 30
    },
    {
     "cell_type": "code",
     "collapsed": false,
     "input": [
      "vm = VendingMachine()\n",
      "vm.restock(\"water\", quantity=5, price=1.50)\n",
      "vm.restock(\"iced tea\", quantity=10, price=2.50)\n",
      "vm.restock(\"soda\", quantity=12, price=2.00)\n",
      "\n",
      "vm.vend(\"water\", 1.50)\n",
      "print(vm.stock(\"water\")) # how many waters are left\n",
      "\n",
      "vm.vend(\"water\", 1.25) # should fail, and return the money to the user\n",
      "vm.vend(\"water\", 1.75) # should work, and return 0.25 to the user"
     ],
     "language": "python",
     "metadata": {},
     "outputs": [
      {
       "output_type": "stream",
       "stream": "stdout",
       "text": [
        "You just bought a vending machine, you should restock it!\n",
        "Plop-thunk! \n",
        " Here is your tasty water!\n",
        "We have 4 of water in stock\n",
        "4\n",
        "Please insert $0.25 more.\n",
        "Plop-thunk! \n",
        " Here is your tasty water!\n",
        "and here is $0.25 in change\n"
       ]
      }
     ],
     "prompt_number": 60
    },
    {
     "cell_type": "code",
     "collapsed": false,
     "input": [
      "vm.stock('Iced Tea')"
     ],
     "language": "python",
     "metadata": {},
     "outputs": [
      {
       "output_type": "stream",
       "stream": "stdout",
       "text": [
        "We have 10 of Iced Tea in stock\n"
       ]
      },
      {
       "metadata": {},
       "output_type": "pyout",
       "prompt_number": 63,
       "text": [
        "10"
       ]
      }
     ],
     "prompt_number": 63
    },
    {
     "cell_type": "markdown",
     "metadata": {},
     "source": [
      "plot(arange(0,10))"
     ]
    },
    {
     "cell_type": "code",
     "collapsed": false,
     "input": [
      "import "
     ],
     "language": "python",
     "metadata": {},
     "outputs": []
    }
   ],
   "metadata": {}
  }
 ]
}