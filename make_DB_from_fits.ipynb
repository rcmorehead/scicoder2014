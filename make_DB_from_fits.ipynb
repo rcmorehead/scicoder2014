{
 "metadata": {
  "name": "",
  "signature": "sha256:8d2f92decdfb0b8265b266858a2babace985be1f47519896e7c9bd24d7890142"
 },
 "nbformat": 3,
 "nbformat_minor": 0,
 "worksheets": [
  {
   "cells": [
    {
     "cell_type": "code",
     "collapsed": false,
     "input": [
      "from recsql import SQLarray\n",
      "from astropy.io import fits\n",
      "hdulist = fits.open('ssppOut-dr9.fits')\n"
     ],
     "language": "python",
     "metadata": {},
     "outputs": [],
     "prompt_number": 1
    },
    {
     "cell_type": "code",
     "collapsed": false,
     "input": [
      "table = hdulist[1].data\n",
      "table = table.view(np.recarray) "
     ],
     "language": "python",
     "metadata": {},
     "outputs": [],
     "prompt_number": 3
    },
    {
     "cell_type": "code",
     "collapsed": false,
     "input": [],
     "language": "python",
     "metadata": {},
     "outputs": [
      {
       "metadata": {},
       "output_type": "pyout",
       "prompt_number": 6,
       "text": [
        "dtype([('SPECOBJID', 'S22'), ('PLATEID', 'S19'), ('BESTOBJID', 'S19'), ('FLUXOBJID', 'S19'), ('TARGETOBJID', 'S22'), ('SPECPRIMARY', '>i4'), ('SPECLEGACY', '>i4'), ('SPECSEGUE', '>i4'), ('SPECSEGUE1', '>i4'), ('SPECSEGUE2', '>i4'), ('PLUG_RA', '>f8'), ('PLUG_DEC', '>f8'), ('LEGACY_TARGET1', '>i4'), ('LEGACY_TARGET2', '>i4'), ('SPECIAL_TARGET1', '>i8'), ('SPECIAL_TARGET2', '>i8'), ('FIRSTRELEASE', 'S3'), ('PROGRAMNAME', 'S23'), ('CHUNK', 'S16'), ('PLATERUN', 'S16'), ('RUNSSPP', 'S3'), ('RUN1D', 'S1'), ('RUN2D', 'S3'), ('MJD', '>i4'), ('PLATE', '>i2'), ('FIBER', '>i2'), ('PRIM_TARGET', 'S13'), ('SPECTYPE_HAMMER', 'S4'), ('SPECTYPE_SUBCLASS', 'S20'), ('FLAG', 'S5'), ('TEFF_ADOP', '>f4'), ('TEFF_ADOP_N', '>i2'), ('TEFF_ADOP_UNC', '>f4'), ('TEFF_HA24', '>f4'), ('TEFF_HD24', '>f4'), ('TEFF_TK', '>f4'), ('TEFF_TG', '>f4'), ('TEFF_TI', '>f4'), ('TEFF_NGS1', '>f4'), ('TEFF_ANNSR', '>f4'), ('TEFF_ANNRR', '>f4'), ('TEFF_WBG', '>f4'), ('TEFF_K24', '>f4'), ('TEFF_KI13', '>f4'), ('TEFF_HA24_IND', '>i2'), ('TEFF_HD24_IND', '>i2'), ('TEFF_TK_IND', '>i2'), ('TEFF_TG_IND', '>i2'), ('TEFF_TI_IND', '>i2'), ('TEFF_NGS1_IND', '>i2'), ('TEFF_ANNSR_IND', '>i2'), ('TEFF_ANNRR_IND', '>i2'), ('TEFF_WBG_IND', '>i2'), ('TEFF_K24_IND', '>i2'), ('TEFF_KI13_IND', '>i2'), ('TEFF_HA24_UNC', '>f4'), ('TEFF_HD24_UNC', '>f4'), ('TEFF_TK_UNC', '>f4'), ('TEFF_TG_UNC', '>f4'), ('TEFF_TI_UNC', '>f4'), ('TEFF_NGS1_UNC', '>f4'), ('TEFF_ANNSR_UNC', '>f4'), ('TEFF_ANNRR_UNC', '>f4'), ('TEFF_WBG_UNC', '>f4'), ('TEFF_K24_UNC', '>f4'), ('TEFF_KI13_UNC', '>f4'), ('LOGG_ADOP', '>f4'), ('LOGG_ADOP_N', '>i2'), ('LOGG_ADOP_UNC', '>f4'), ('LOGG_NGS2', '>f4'), ('LOGG_NGS1', '>f4'), ('LOGG_ANNSR', '>f4'), ('LOGG_ANNRR', '>f4'), ('LOGG_CAI1', '>f4'), ('LOGG_CAI2', '>f4'), ('LOGG_MGH', '>f4'), ('LOGG_WBG', '>f4'), ('LOGG_K24', '>f4'), ('LOGG_KI13', '>f4'), ('LOGG_NGS2_IND', '>i2'), ('LOGG_NGS1_IND', '>i2'), ('LOGG_ANNSR_IND', '>i2'), ('LOGG_ANNRR_IND', '>i2'), ('LOGG_CAI1_IND', '>i2'), ('LOGG_CAI2_IND', '>i2'), ('LOGG_MGH_IND', '>i2'), ('LOGG_WBG_IND', '>i2'), ('LOGG_K24_IND', '>i2'), ('LOGG_KI13_IND', '>i2'), ('LOGG_NGS2_UNC', '>f4'), ('LOGG_NGS1_UNC', '>f4'), ('LOGG_ANNSR_UNC', '>f4'), ('LOGG_ANNRR_UNC', '>f4'), ('LOGG_CAI1_UNC', '>f4'), ('LOGG_CAI2_UNC', '>f4'), ('LOGG_MGH_UNC', '>f4'), ('LOGG_WBG_UNC', '>f4'), ('LOGG_K24_UNC', '>f4'), ('LOGG_KI13_UNC', '>f4'), ('FEH_ADOP', '>f4'), ('FEH_ADOP_N', '>i2'), ('FEH_ADOP_UNC', '>f4'), ('FEH_NGS2', '>f4'), ('FEH_NGS1', '>f4'), ('FEH_ANNSR', '>f4'), ('FEH_ANNRR', '>f4'), ('FEH_CAIIK1', '>f4'), ('FEH_CAIIK2', '>f4'), ('FEH_CAIIK3', '>f4'), ('FEH_ACF', '>f4'), ('FEH_CAIIT', '>f4'), ('FEH_WBG', '>f4'), ('FEH_K24', '>f4'), ('FEH_KI13', '>f4'), ('FEH_NGS2_IND', '>i2'), ('FEH_NGS1_IND', '>i2'), ('FEH_ANNSR_IND', '>i2'), ('FEH_ANNRR_IND', '>i2'), ('FEH_CAIIK1_IND', '>i2'), ('FEH_CAIIK2_IND', '>i2'), ('FEH_CAIIK3_IND', '>i2'), ('FEH_ACF_IND', '>i2'), ('FEH_CAIIT_IND', '>i2'), ('FEH_WBG_IND', '>i2'), ('FEH_K24_IND', '>i2'), ('FEH_KI13_IND', '>i2'), ('FEH_NGS2_UNC', '>f4'), ('FEH_NGS1_UNC', '>f4'), ('FEH_ANNSR_UNC', '>f4'), ('FEH_ANNRR_UNC', '>f4'), ('FEH_CAIIK1_UNC', '>f4'), ('FEH_CAIIK2_UNC', '>f4'), ('FEH_CAIIK3_UNC', '>f4'), ('FEH_ACF_UNC', '>f4'), ('FEH_CAIIT_UNC', '>f4'), ('FEH_WBG_UNC', '>f4'), ('FEH_K24_UNC', '>f4'), ('FEH_KI13_UNC', '>f4'), ('AFE', '>f4'), ('AFE_IND', '>i2'), ('AFE_UNC', '>f4'), ('DIST_DWARF', '>f4'), ('DIST_TO', '>f4'), ('DIST_GIANT', '>f4'), ('DIST_AGB', '>f4'), ('DIST_FHB', '>f4'), ('DIST_AP', '>f4'), ('DIST_Z', '>f4'), ('RV_FLAG', 'S4'), ('RV_ADOP', '>f4'), ('RV_ADOP_UNC', '>f4'), ('RV_CAL', '>f4'), ('RV_CAL_UNC', '>f4'), ('RV_BS', '>f4'), ('RV_BS_UNC', '>f4'), ('RV_ELODIE', '>f4'), ('RV_ELODIE_UNC', '>f4'), ('RV_GSR', '>f4'), ('RV_GSR_UNC', '>f4'), ('V_MAG', '>f4'), ('BV', '>f4'), ('BV_BALMER', '>f4'), ('GR_PREDICT', '>f4'), ('GR_HA24', '>f4'), ('GR_HD24', '>f4'), ('GR_HP', '>f4'), ('G_MAG', '>f4'), ('UG', '>f4'), ('GR', '>f4'), ('RI', '>f4'), ('IZ', '>f4'), ('U_MAG_UNC', '>f4'), ('G_MAG_UNC', '>f4'), ('R_MAG_UNC', '>f4'), ('I_MAG_UNC', '>f4'), ('Z_MAG_UNC', '>f4'), ('EBV', '>f4'), ('SNR', '>f4'), ('QA', '>i2'), ('CC_CAHK', '>f4'), ('CC_MGH', '>f4'), ('RA', '>f8'), ('DEC', '>f8'), ('L', '>f8'), ('B', '>f8'), ('TEFF_SPEC', '>f4'), ('TEFF_SPEC_N', '>i2'), ('TEFF_SPEC_UNC', '>f4'), ('LOGG_SPEC', '>f4'), ('LOGG_SPEC_N', '>i2'), ('LOGG_SPEC_UNC', '>f4'), ('FEH_SPEC', '>f4'), ('FEH_SPEC_N', '>i2'), ('FEH_SPEC_UNC', '>f4'), ('TEFF_COL', '>f4'), ('TEFF_COL_UNC', '>f4'), ('FEH_TFIX_NGS2', '>f4'), ('FEH_TFIX_NGS1', '>f4'), ('LOGG_TFIX_NGS2', '>f4'), ('LOGG_TFIX_NGS1', '>f4'), ('FEH_TFIX_NGS2_UNC', '>f4'), ('FEH_TFIX_NGS1_UNC', '>f4'), ('LOGG_TFIX_NGS2_UNC', '>f4'), ('LOGG_TFIX_NGS1_UNC', '>f4'), ('FEH_TFIX_CAIIK1', '>f4'), ('FEH_TFIX_CAIIK1_UNC', '>f4'), ('ACF1', '>f4'), ('ACF1_SNR', '>f4'), ('ACF2', '>f4'), ('ACF2_SNR', '>f4'), ('INSPECT', 'S6'), ('ELODIERVFINAL', '>f4'), ('ELODIERVFINALERR', '>f4'), ('ZWARNING', '>i4'), ('SURVEY', 'S6'), ('PRIMTARGET', '>i4'), ('SECTARGET', '>i4'), ('SEGUE1_TARGET1', '>i4'), ('SEGUE1_TARGET2', '>i4'), ('SEGUE2_TARGET1', '>i4'), ('SEGUE2_TARGET2', '>i4'), ('L_CLASS', 'S4'), ('DIST_ADOP', '>f4'), ('MP_FLAG', 'S2'), ('TEFF_IRFM', '>f4'), ('TEFF_IRFM_IND', '>i2'), ('TEFF_IRFM_UNC', '>f4'), ('LOGG_NGS1_IRFM', '>f4'), ('LOGG_NGS1_IRFM_IND', '>i2'), ('LOGG_NGS1_IRFM_UNC', '>f4'), ('FEH_NGS1_IRFM', '>f4'), ('FEH_NGS1_IRFM_IND', '>i2'), ('FEH_NGS1_IRFM_UNC', '>f4'), ('LOGG_CAI1_IRFM', '>f4'), ('LOGG_CAI1_IRFM_IND', '>i2'), ('LOGG_CAI1_IRFM_UNC', '>f4'), ('FEH_CAIIK1_IRFM', '>f4'), ('FEH_CAIIK1_IRFM_IND', '>i2'), ('FEH_CAIIK1_IRFM_UNC', '>f4')])"
       ]
      }
     ],
     "prompt_number": 6
    },
    {
     "cell_type": "code",
     "collapsed": false,
     "input": [
      "ls\n"
     ],
     "language": "python",
     "metadata": {},
     "outputs": [
      {
       "output_type": "stream",
       "stream": "stdout",
       "text": [
        "make_DB_from_fits.ipynb  ssdd.sqlite              ssdd.sqlite-journal      ssppOut-dr9.fits         test.sqlite              ~ssdd.sqlite.backup\r\n"
       ]
      }
     ],
     "prompt_number": 11
    },
    {
     "cell_type": "code",
     "collapsed": false,
     "input": [
      "strdtypes=[str(table.dtype[i]) for i in range(len(table.dtype))]\n",
      "names = [str(table.dtype.names[i]) for i in range(len(table.dtype))]\n",
      "#print names\n",
      "\n",
      "sqltypes=['']*len(strdtypes)\n",
      "\n",
      "for i in range(len(sqltypes)):\n",
      "    if 'f' in strdtypes[i]:\n",
      "        sqltypes[i]='{} \"FLOAT\"'.format(names[i])\n",
      "    elif 'i' in strdtypes[i]:\n",
      "        sqltypes[i]='{} \"INTEGER\"'.format(names[i])\n",
      "    elif 'b' in strdtypes[i]:\n",
      "        sqltypes[i]='{} \"BOOL\"'.format(names[i])\n",
      "    elif 'S' in strdtypes[i]:\n",
      "        sqltypes[i]='{} \"TEXT\"'.format(names[i])\n",
      "    else:\n",
      "        print('Unknown datatype: {}'.format(strdtypes[i]))\n",
      "        sys.exit()"
     ],
     "language": "python",
     "metadata": {},
     "outputs": [],
     "prompt_number": 26
    },
    {
     "cell_type": "code",
     "collapsed": false,
     "input": [
      "\n",
      "print sqltypes\n"
     ],
     "language": "python",
     "metadata": {},
     "outputs": [
      {
       "output_type": "stream",
       "stream": "stdout",
       "text": [
        "['SPECOBJID \"TEXT\"', 'PLATEID \"TEXT\"', 'BESTOBJID \"TEXT\"', 'FLUXOBJID \"TEXT\"', 'TARGETOBJID \"TEXT\"', 'SPECPRIMARY \"INTEGER\"', 'SPECLEGACY \"INTEGER\"', 'SPECSEGUE \"INTEGER\"', 'SPECSEGUE1 \"INTEGER\"', 'SPECSEGUE2 \"INTEGER\"', 'PLUG_RA \"FLOAT\"', 'PLUG_DEC \"FLOAT\"', 'LEGACY_TARGET1 \"INTEGER\"', 'LEGACY_TARGET2 \"INTEGER\"', 'SPECIAL_TARGET1 \"INTEGER\"', 'SPECIAL_TARGET2 \"INTEGER\"', 'FIRSTRELEASE \"TEXT\"', 'PROGRAMNAME \"TEXT\"', 'CHUNK \"TEXT\"', 'PLATERUN \"TEXT\"', 'RUNSSPP \"TEXT\"', 'RUN1D \"TEXT\"', 'RUN2D \"TEXT\"', 'MJD \"INTEGER\"', 'PLATE \"INTEGER\"', 'FIBER \"INTEGER\"', 'PRIM_TARGET \"TEXT\"', 'SPECTYPE_HAMMER \"TEXT\"', 'SPECTYPE_SUBCLASS \"TEXT\"', 'FLAG \"TEXT\"', 'TEFF_ADOP \"FLOAT\"', 'TEFF_ADOP_N \"INTEGER\"', 'TEFF_ADOP_UNC \"FLOAT\"', 'TEFF_HA24 \"FLOAT\"', 'TEFF_HD24 \"FLOAT\"', 'TEFF_TK \"FLOAT\"', 'TEFF_TG \"FLOAT\"', 'TEFF_TI \"FLOAT\"', 'TEFF_NGS1 \"FLOAT\"', 'TEFF_ANNSR \"FLOAT\"', 'TEFF_ANNRR \"FLOAT\"', 'TEFF_WBG \"FLOAT\"', 'TEFF_K24 \"FLOAT\"', 'TEFF_KI13 \"FLOAT\"', 'TEFF_HA24_IND \"INTEGER\"', 'TEFF_HD24_IND \"INTEGER\"', 'TEFF_TK_IND \"INTEGER\"', 'TEFF_TG_IND \"INTEGER\"', 'TEFF_TI_IND \"INTEGER\"', 'TEFF_NGS1_IND \"INTEGER\"', 'TEFF_ANNSR_IND \"INTEGER\"', 'TEFF_ANNRR_IND \"INTEGER\"', 'TEFF_WBG_IND \"INTEGER\"', 'TEFF_K24_IND \"INTEGER\"', 'TEFF_KI13_IND \"INTEGER\"', 'TEFF_HA24_UNC \"FLOAT\"', 'TEFF_HD24_UNC \"FLOAT\"', 'TEFF_TK_UNC \"FLOAT\"', 'TEFF_TG_UNC \"FLOAT\"', 'TEFF_TI_UNC \"FLOAT\"', 'TEFF_NGS1_UNC \"FLOAT\"', 'TEFF_ANNSR_UNC \"FLOAT\"', 'TEFF_ANNRR_UNC \"FLOAT\"', 'TEFF_WBG_UNC \"FLOAT\"', 'TEFF_K24_UNC \"FLOAT\"', 'TEFF_KI13_UNC \"FLOAT\"', 'LOGG_ADOP \"FLOAT\"', 'LOGG_ADOP_N \"INTEGER\"', 'LOGG_ADOP_UNC \"FLOAT\"', 'LOGG_NGS2 \"FLOAT\"', 'LOGG_NGS1 \"FLOAT\"', 'LOGG_ANNSR \"FLOAT\"', 'LOGG_ANNRR \"FLOAT\"', 'LOGG_CAI1 \"FLOAT\"', 'LOGG_CAI2 \"FLOAT\"', 'LOGG_MGH \"FLOAT\"', 'LOGG_WBG \"FLOAT\"', 'LOGG_K24 \"FLOAT\"', 'LOGG_KI13 \"FLOAT\"', 'LOGG_NGS2_IND \"INTEGER\"', 'LOGG_NGS1_IND \"INTEGER\"', 'LOGG_ANNSR_IND \"INTEGER\"', 'LOGG_ANNRR_IND \"INTEGER\"', 'LOGG_CAI1_IND \"INTEGER\"', 'LOGG_CAI2_IND \"INTEGER\"', 'LOGG_MGH_IND \"INTEGER\"', 'LOGG_WBG_IND \"INTEGER\"', 'LOGG_K24_IND \"INTEGER\"', 'LOGG_KI13_IND \"INTEGER\"', 'LOGG_NGS2_UNC \"FLOAT\"', 'LOGG_NGS1_UNC \"FLOAT\"', 'LOGG_ANNSR_UNC \"FLOAT\"', 'LOGG_ANNRR_UNC \"FLOAT\"', 'LOGG_CAI1_UNC \"FLOAT\"', 'LOGG_CAI2_UNC \"FLOAT\"', 'LOGG_MGH_UNC \"FLOAT\"', 'LOGG_WBG_UNC \"FLOAT\"', 'LOGG_K24_UNC \"FLOAT\"', 'LOGG_KI13_UNC \"FLOAT\"', 'FEH_ADOP \"FLOAT\"', 'FEH_ADOP_N \"INTEGER\"', 'FEH_ADOP_UNC \"FLOAT\"', 'FEH_NGS2 \"FLOAT\"', 'FEH_NGS1 \"FLOAT\"', 'FEH_ANNSR \"FLOAT\"', 'FEH_ANNRR \"FLOAT\"', 'FEH_CAIIK1 \"FLOAT\"', 'FEH_CAIIK2 \"FLOAT\"', 'FEH_CAIIK3 \"FLOAT\"', 'FEH_ACF \"FLOAT\"', 'FEH_CAIIT \"FLOAT\"', 'FEH_WBG \"FLOAT\"', 'FEH_K24 \"FLOAT\"', 'FEH_KI13 \"FLOAT\"', 'FEH_NGS2_IND \"INTEGER\"', 'FEH_NGS1_IND \"INTEGER\"', 'FEH_ANNSR_IND \"INTEGER\"', 'FEH_ANNRR_IND \"INTEGER\"', 'FEH_CAIIK1_IND \"INTEGER\"', 'FEH_CAIIK2_IND \"INTEGER\"', 'FEH_CAIIK3_IND \"INTEGER\"', 'FEH_ACF_IND \"INTEGER\"', 'FEH_CAIIT_IND \"INTEGER\"', 'FEH_WBG_IND \"INTEGER\"', 'FEH_K24_IND \"INTEGER\"', 'FEH_KI13_IND \"INTEGER\"', 'FEH_NGS2_UNC \"FLOAT\"', 'FEH_NGS1_UNC \"FLOAT\"', 'FEH_ANNSR_UNC \"FLOAT\"', 'FEH_ANNRR_UNC \"FLOAT\"', 'FEH_CAIIK1_UNC \"FLOAT\"', 'FEH_CAIIK2_UNC \"FLOAT\"', 'FEH_CAIIK3_UNC \"FLOAT\"', 'FEH_ACF_UNC \"FLOAT\"', 'FEH_CAIIT_UNC \"FLOAT\"', 'FEH_WBG_UNC \"FLOAT\"', 'FEH_K24_UNC \"FLOAT\"', 'FEH_KI13_UNC \"FLOAT\"', 'AFE \"FLOAT\"', 'AFE_IND \"INTEGER\"', 'AFE_UNC \"FLOAT\"', 'DIST_DWARF \"FLOAT\"', 'DIST_TO \"FLOAT\"', 'DIST_GIANT \"FLOAT\"', 'DIST_AGB \"FLOAT\"', 'DIST_FHB \"FLOAT\"', 'DIST_AP \"FLOAT\"', 'DIST_Z \"FLOAT\"', 'RV_FLAG \"TEXT\"', 'RV_ADOP \"FLOAT\"', 'RV_ADOP_UNC \"FLOAT\"', 'RV_CAL \"FLOAT\"', 'RV_CAL_UNC \"FLOAT\"', 'RV_BS \"FLOAT\"', 'RV_BS_UNC \"FLOAT\"', 'RV_ELODIE \"FLOAT\"', 'RV_ELODIE_UNC \"FLOAT\"', 'RV_GSR \"FLOAT\"', 'RV_GSR_UNC \"FLOAT\"', 'V_MAG \"FLOAT\"', 'BV \"FLOAT\"', 'BV_BALMER \"FLOAT\"', 'GR_PREDICT \"FLOAT\"', 'GR_HA24 \"FLOAT\"', 'GR_HD24 \"FLOAT\"', 'GR_HP \"FLOAT\"', 'G_MAG \"FLOAT\"', 'UG \"FLOAT\"', 'GR \"FLOAT\"', 'RI \"FLOAT\"', 'IZ \"FLOAT\"', 'U_MAG_UNC \"FLOAT\"', 'G_MAG_UNC \"FLOAT\"', 'R_MAG_UNC \"FLOAT\"', 'I_MAG_UNC \"FLOAT\"', 'Z_MAG_UNC \"FLOAT\"', 'EBV \"FLOAT\"', 'SNR \"FLOAT\"', 'QA \"INTEGER\"', 'CC_CAHK \"FLOAT\"', 'CC_MGH \"FLOAT\"', 'RA \"FLOAT\"', 'DEC \"FLOAT\"', 'L \"FLOAT\"', 'B \"FLOAT\"', 'TEFF_SPEC \"FLOAT\"', 'TEFF_SPEC_N \"INTEGER\"', 'TEFF_SPEC_UNC \"FLOAT\"', 'LOGG_SPEC \"FLOAT\"', 'LOGG_SPEC_N \"INTEGER\"', 'LOGG_SPEC_UNC \"FLOAT\"', 'FEH_SPEC \"FLOAT\"', 'FEH_SPEC_N \"INTEGER\"', 'FEH_SPEC_UNC \"FLOAT\"', 'TEFF_COL \"FLOAT\"', 'TEFF_COL_UNC \"FLOAT\"', 'FEH_TFIX_NGS2 \"FLOAT\"', 'FEH_TFIX_NGS1 \"FLOAT\"', 'LOGG_TFIX_NGS2 \"FLOAT\"', 'LOGG_TFIX_NGS1 \"FLOAT\"', 'FEH_TFIX_NGS2_UNC \"FLOAT\"', 'FEH_TFIX_NGS1_UNC \"FLOAT\"', 'LOGG_TFIX_NGS2_UNC \"FLOAT\"', 'LOGG_TFIX_NGS1_UNC \"FLOAT\"', 'FEH_TFIX_CAIIK1 \"FLOAT\"', 'FEH_TFIX_CAIIK1_UNC \"FLOAT\"', 'ACF1 \"FLOAT\"', 'ACF1_SNR \"FLOAT\"', 'ACF2 \"FLOAT\"', 'ACF2_SNR \"FLOAT\"', 'INSPECT \"TEXT\"', 'ELODIERVFINAL \"FLOAT\"', 'ELODIERVFINALERR \"FLOAT\"', 'ZWARNING \"INTEGER\"', 'SURVEY \"TEXT\"', 'PRIMTARGET \"INTEGER\"', 'SECTARGET \"INTEGER\"', 'SEGUE1_TARGET1 \"INTEGER\"', 'SEGUE1_TARGET2 \"INTEGER\"', 'SEGUE2_TARGET1 \"INTEGER\"', 'SEGUE2_TARGET2 \"INTEGER\"', 'L_CLASS \"TEXT\"', 'DIST_ADOP \"FLOAT\"', 'MP_FLAG \"TEXT\"', 'TEFF_IRFM \"FLOAT\"', 'TEFF_IRFM_IND \"INTEGER\"', 'TEFF_IRFM_UNC \"FLOAT\"', 'LOGG_NGS1_IRFM \"FLOAT\"', 'LOGG_NGS1_IRFM_IND \"INTEGER\"', 'LOGG_NGS1_IRFM_UNC \"FLOAT\"', 'FEH_NGS1_IRFM \"FLOAT\"', 'FEH_NGS1_IRFM_IND \"INTEGER\"', 'FEH_NGS1_IRFM_UNC \"FLOAT\"', 'LOGG_CAI1_IRFM \"FLOAT\"', 'LOGG_CAI1_IRFM_IND \"INTEGER\"', 'LOGG_CAI1_IRFM_UNC \"FLOAT\"', 'FEH_CAIIK1_IRFM \"FLOAT\"', 'FEH_CAIIK1_IRFM_IND \"INTEGER\"', 'FEH_CAIIK1_IRFM_UNC \"FLOAT\"']\n"
       ]
      }
     ],
     "prompt_number": 27
    },
    {
     "cell_type": "code",
     "collapsed": false,
     "input": [
      "table.dtype"
     ],
     "language": "python",
     "metadata": {},
     "outputs": [
      {
       "metadata": {},
       "output_type": "pyout",
       "prompt_number": 16,
       "text": [
        "dtype([('SPECOBJID', 'S22'), ('PLATEID', 'S19'), ('BESTOBJID', 'S19'), ('FLUXOBJID', 'S19'), ('TARGETOBJID', 'S22'), ('SPECPRIMARY', '>i4'), ('SPECLEGACY', '>i4'), ('SPECSEGUE', '>i4'), ('SPECSEGUE1', '>i4'), ('SPECSEGUE2', '>i4'), ('PLUG_RA', '>f8'), ('PLUG_DEC', '>f8'), ('LEGACY_TARGET1', '>i4'), ('LEGACY_TARGET2', '>i4'), ('SPECIAL_TARGET1', '>i8'), ('SPECIAL_TARGET2', '>i8'), ('FIRSTRELEASE', 'S3'), ('PROGRAMNAME', 'S23'), ('CHUNK', 'S16'), ('PLATERUN', 'S16'), ('RUNSSPP', 'S3'), ('RUN1D', 'S1'), ('RUN2D', 'S3'), ('MJD', '>i4'), ('PLATE', '>i2'), ('FIBER', '>i2'), ('PRIM_TARGET', 'S13'), ('SPECTYPE_HAMMER', 'S4'), ('SPECTYPE_SUBCLASS', 'S20'), ('FLAG', 'S5'), ('TEFF_ADOP', '>f4'), ('TEFF_ADOP_N', '>i2'), ('TEFF_ADOP_UNC', '>f4'), ('TEFF_HA24', '>f4'), ('TEFF_HD24', '>f4'), ('TEFF_TK', '>f4'), ('TEFF_TG', '>f4'), ('TEFF_TI', '>f4'), ('TEFF_NGS1', '>f4'), ('TEFF_ANNSR', '>f4'), ('TEFF_ANNRR', '>f4'), ('TEFF_WBG', '>f4'), ('TEFF_K24', '>f4'), ('TEFF_KI13', '>f4'), ('TEFF_HA24_IND', '>i2'), ('TEFF_HD24_IND', '>i2'), ('TEFF_TK_IND', '>i2'), ('TEFF_TG_IND', '>i2'), ('TEFF_TI_IND', '>i2'), ('TEFF_NGS1_IND', '>i2'), ('TEFF_ANNSR_IND', '>i2'), ('TEFF_ANNRR_IND', '>i2'), ('TEFF_WBG_IND', '>i2'), ('TEFF_K24_IND', '>i2'), ('TEFF_KI13_IND', '>i2'), ('TEFF_HA24_UNC', '>f4'), ('TEFF_HD24_UNC', '>f4'), ('TEFF_TK_UNC', '>f4'), ('TEFF_TG_UNC', '>f4'), ('TEFF_TI_UNC', '>f4'), ('TEFF_NGS1_UNC', '>f4'), ('TEFF_ANNSR_UNC', '>f4'), ('TEFF_ANNRR_UNC', '>f4'), ('TEFF_WBG_UNC', '>f4'), ('TEFF_K24_UNC', '>f4'), ('TEFF_KI13_UNC', '>f4'), ('LOGG_ADOP', '>f4'), ('LOGG_ADOP_N', '>i2'), ('LOGG_ADOP_UNC', '>f4'), ('LOGG_NGS2', '>f4'), ('LOGG_NGS1', '>f4'), ('LOGG_ANNSR', '>f4'), ('LOGG_ANNRR', '>f4'), ('LOGG_CAI1', '>f4'), ('LOGG_CAI2', '>f4'), ('LOGG_MGH', '>f4'), ('LOGG_WBG', '>f4'), ('LOGG_K24', '>f4'), ('LOGG_KI13', '>f4'), ('LOGG_NGS2_IND', '>i2'), ('LOGG_NGS1_IND', '>i2'), ('LOGG_ANNSR_IND', '>i2'), ('LOGG_ANNRR_IND', '>i2'), ('LOGG_CAI1_IND', '>i2'), ('LOGG_CAI2_IND', '>i2'), ('LOGG_MGH_IND', '>i2'), ('LOGG_WBG_IND', '>i2'), ('LOGG_K24_IND', '>i2'), ('LOGG_KI13_IND', '>i2'), ('LOGG_NGS2_UNC', '>f4'), ('LOGG_NGS1_UNC', '>f4'), ('LOGG_ANNSR_UNC', '>f4'), ('LOGG_ANNRR_UNC', '>f4'), ('LOGG_CAI1_UNC', '>f4'), ('LOGG_CAI2_UNC', '>f4'), ('LOGG_MGH_UNC', '>f4'), ('LOGG_WBG_UNC', '>f4'), ('LOGG_K24_UNC', '>f4'), ('LOGG_KI13_UNC', '>f4'), ('FEH_ADOP', '>f4'), ('FEH_ADOP_N', '>i2'), ('FEH_ADOP_UNC', '>f4'), ('FEH_NGS2', '>f4'), ('FEH_NGS1', '>f4'), ('FEH_ANNSR', '>f4'), ('FEH_ANNRR', '>f4'), ('FEH_CAIIK1', '>f4'), ('FEH_CAIIK2', '>f4'), ('FEH_CAIIK3', '>f4'), ('FEH_ACF', '>f4'), ('FEH_CAIIT', '>f4'), ('FEH_WBG', '>f4'), ('FEH_K24', '>f4'), ('FEH_KI13', '>f4'), ('FEH_NGS2_IND', '>i2'), ('FEH_NGS1_IND', '>i2'), ('FEH_ANNSR_IND', '>i2'), ('FEH_ANNRR_IND', '>i2'), ('FEH_CAIIK1_IND', '>i2'), ('FEH_CAIIK2_IND', '>i2'), ('FEH_CAIIK3_IND', '>i2'), ('FEH_ACF_IND', '>i2'), ('FEH_CAIIT_IND', '>i2'), ('FEH_WBG_IND', '>i2'), ('FEH_K24_IND', '>i2'), ('FEH_KI13_IND', '>i2'), ('FEH_NGS2_UNC', '>f4'), ('FEH_NGS1_UNC', '>f4'), ('FEH_ANNSR_UNC', '>f4'), ('FEH_ANNRR_UNC', '>f4'), ('FEH_CAIIK1_UNC', '>f4'), ('FEH_CAIIK2_UNC', '>f4'), ('FEH_CAIIK3_UNC', '>f4'), ('FEH_ACF_UNC', '>f4'), ('FEH_CAIIT_UNC', '>f4'), ('FEH_WBG_UNC', '>f4'), ('FEH_K24_UNC', '>f4'), ('FEH_KI13_UNC', '>f4'), ('AFE', '>f4'), ('AFE_IND', '>i2'), ('AFE_UNC', '>f4'), ('DIST_DWARF', '>f4'), ('DIST_TO', '>f4'), ('DIST_GIANT', '>f4'), ('DIST_AGB', '>f4'), ('DIST_FHB', '>f4'), ('DIST_AP', '>f4'), ('DIST_Z', '>f4'), ('RV_FLAG', 'S4'), ('RV_ADOP', '>f4'), ('RV_ADOP_UNC', '>f4'), ('RV_CAL', '>f4'), ('RV_CAL_UNC', '>f4'), ('RV_BS', '>f4'), ('RV_BS_UNC', '>f4'), ('RV_ELODIE', '>f4'), ('RV_ELODIE_UNC', '>f4'), ('RV_GSR', '>f4'), ('RV_GSR_UNC', '>f4'), ('V_MAG', '>f4'), ('BV', '>f4'), ('BV_BALMER', '>f4'), ('GR_PREDICT', '>f4'), ('GR_HA24', '>f4'), ('GR_HD24', '>f4'), ('GR_HP', '>f4'), ('G_MAG', '>f4'), ('UG', '>f4'), ('GR', '>f4'), ('RI', '>f4'), ('IZ', '>f4'), ('U_MAG_UNC', '>f4'), ('G_MAG_UNC', '>f4'), ('R_MAG_UNC', '>f4'), ('I_MAG_UNC', '>f4'), ('Z_MAG_UNC', '>f4'), ('EBV', '>f4'), ('SNR', '>f4'), ('QA', '>i2'), ('CC_CAHK', '>f4'), ('CC_MGH', '>f4'), ('RA', '>f8'), ('DEC', '>f8'), ('L', '>f8'), ('B', '>f8'), ('TEFF_SPEC', '>f4'), ('TEFF_SPEC_N', '>i2'), ('TEFF_SPEC_UNC', '>f4'), ('LOGG_SPEC', '>f4'), ('LOGG_SPEC_N', '>i2'), ('LOGG_SPEC_UNC', '>f4'), ('FEH_SPEC', '>f4'), ('FEH_SPEC_N', '>i2'), ('FEH_SPEC_UNC', '>f4'), ('TEFF_COL', '>f4'), ('TEFF_COL_UNC', '>f4'), ('FEH_TFIX_NGS2', '>f4'), ('FEH_TFIX_NGS1', '>f4'), ('LOGG_TFIX_NGS2', '>f4'), ('LOGG_TFIX_NGS1', '>f4'), ('FEH_TFIX_NGS2_UNC', '>f4'), ('FEH_TFIX_NGS1_UNC', '>f4'), ('LOGG_TFIX_NGS2_UNC', '>f4'), ('LOGG_TFIX_NGS1_UNC', '>f4'), ('FEH_TFIX_CAIIK1', '>f4'), ('FEH_TFIX_CAIIK1_UNC', '>f4'), ('ACF1', '>f4'), ('ACF1_SNR', '>f4'), ('ACF2', '>f4'), ('ACF2_SNR', '>f4'), ('INSPECT', 'S6'), ('ELODIERVFINAL', '>f4'), ('ELODIERVFINALERR', '>f4'), ('ZWARNING', '>i4'), ('SURVEY', 'S6'), ('PRIMTARGET', '>i4'), ('SECTARGET', '>i4'), ('SEGUE1_TARGET1', '>i4'), ('SEGUE1_TARGET2', '>i4'), ('SEGUE2_TARGET1', '>i4'), ('SEGUE2_TARGET2', '>i4'), ('L_CLASS', 'S4'), ('DIST_ADOP', '>f4'), ('MP_FLAG', 'S2'), ('TEFF_IRFM', '>f4'), ('TEFF_IRFM_IND', '>i2'), ('TEFF_IRFM_UNC', '>f4'), ('LOGG_NGS1_IRFM', '>f4'), ('LOGG_NGS1_IRFM_IND', '>i2'), ('LOGG_NGS1_IRFM_UNC', '>f4'), ('FEH_NGS1_IRFM', '>f4'), ('FEH_NGS1_IRFM_IND', '>i2'), ('FEH_NGS1_IRFM_UNC', '>f4'), ('LOGG_CAI1_IRFM', '>f4'), ('LOGG_CAI1_IRFM_IND', '>i2'), ('LOGG_CAI1_IRFM_UNC', '>f4'), ('FEH_CAIIK1_IRFM', '>f4'), ('FEH_CAIIK1_IRFM_IND', '>i2'), ('FEH_CAIIK1_IRFM_UNC', '>f4')])"
       ]
      }
     ],
     "prompt_number": 16
    },
    {
     "cell_type": "code",
     "collapsed": false,
     "input": [
      "SQ =SQLarray(name='stars', records=table[0:100], dbfile='test4.sqlite', columns=sqltypes, cachesize=5, connection=None, is_tmp=False)"
     ],
     "language": "python",
     "metadata": {},
     "outputs": [
      {
       "output_type": "stream",
       "stream": "stderr",
       "text": [
        "Exception sqlite3.OperationalError: 'attempt to write a readonly database' in <bound method SQLarray.close of <recsql.sqlarray.SQLarray object at 0x190c6db90>> ignored\n"
       ]
      }
     ],
     "prompt_number": 37
    },
    {
     "cell_type": "code",
     "collapsed": false,
     "input": [
      "SQ.save()"
     ],
     "language": "python",
     "metadata": {},
     "outputs": [],
     "prompt_number": 38
    },
    {
     "cell_type": "code",
     "collapsed": false,
     "input": [
      "sqltypes"
     ],
     "language": "python",
     "metadata": {},
     "outputs": [
      {
       "metadata": {},
       "output_type": "pyout",
       "prompt_number": 30,
       "text": [
        "['SPECOBJID \"TEXT\"',\n",
        " 'PLATEID \"TEXT\"',\n",
        " 'BESTOBJID \"TEXT\"',\n",
        " 'FLUXOBJID \"TEXT\"',\n",
        " 'TARGETOBJID \"TEXT\"',\n",
        " 'SPECPRIMARY \"INTEGER\"',\n",
        " 'SPECLEGACY \"INTEGER\"',\n",
        " 'SPECSEGUE \"INTEGER\"',\n",
        " 'SPECSEGUE1 \"INTEGER\"',\n",
        " 'SPECSEGUE2 \"INTEGER\"',\n",
        " 'PLUG_RA \"FLOAT\"',\n",
        " 'PLUG_DEC \"FLOAT\"',\n",
        " 'LEGACY_TARGET1 \"INTEGER\"',\n",
        " 'LEGACY_TARGET2 \"INTEGER\"',\n",
        " 'SPECIAL_TARGET1 \"INTEGER\"',\n",
        " 'SPECIAL_TARGET2 \"INTEGER\"',\n",
        " 'FIRSTRELEASE \"TEXT\"',\n",
        " 'PROGRAMNAME \"TEXT\"',\n",
        " 'CHUNK \"TEXT\"',\n",
        " 'PLATERUN \"TEXT\"',\n",
        " 'RUNSSPP \"TEXT\"',\n",
        " 'RUN1D \"TEXT\"',\n",
        " 'RUN2D \"TEXT\"',\n",
        " 'MJD \"INTEGER\"',\n",
        " 'PLATE \"INTEGER\"',\n",
        " 'FIBER \"INTEGER\"',\n",
        " 'PRIM_TARGET \"TEXT\"',\n",
        " 'SPECTYPE_HAMMER \"TEXT\"',\n",
        " 'SPECTYPE_SUBCLASS \"TEXT\"',\n",
        " 'FLAG \"TEXT\"',\n",
        " 'TEFF_ADOP \"FLOAT\"',\n",
        " 'TEFF_ADOP_N \"INTEGER\"',\n",
        " 'TEFF_ADOP_UNC \"FLOAT\"',\n",
        " 'TEFF_HA24 \"FLOAT\"',\n",
        " 'TEFF_HD24 \"FLOAT\"',\n",
        " 'TEFF_TK \"FLOAT\"',\n",
        " 'TEFF_TG \"FLOAT\"',\n",
        " 'TEFF_TI \"FLOAT\"',\n",
        " 'TEFF_NGS1 \"FLOAT\"',\n",
        " 'TEFF_ANNSR \"FLOAT\"',\n",
        " 'TEFF_ANNRR \"FLOAT\"',\n",
        " 'TEFF_WBG \"FLOAT\"',\n",
        " 'TEFF_K24 \"FLOAT\"',\n",
        " 'TEFF_KI13 \"FLOAT\"',\n",
        " 'TEFF_HA24_IND \"INTEGER\"',\n",
        " 'TEFF_HD24_IND \"INTEGER\"',\n",
        " 'TEFF_TK_IND \"INTEGER\"',\n",
        " 'TEFF_TG_IND \"INTEGER\"',\n",
        " 'TEFF_TI_IND \"INTEGER\"',\n",
        " 'TEFF_NGS1_IND \"INTEGER\"',\n",
        " 'TEFF_ANNSR_IND \"INTEGER\"',\n",
        " 'TEFF_ANNRR_IND \"INTEGER\"',\n",
        " 'TEFF_WBG_IND \"INTEGER\"',\n",
        " 'TEFF_K24_IND \"INTEGER\"',\n",
        " 'TEFF_KI13_IND \"INTEGER\"',\n",
        " 'TEFF_HA24_UNC \"FLOAT\"',\n",
        " 'TEFF_HD24_UNC \"FLOAT\"',\n",
        " 'TEFF_TK_UNC \"FLOAT\"',\n",
        " 'TEFF_TG_UNC \"FLOAT\"',\n",
        " 'TEFF_TI_UNC \"FLOAT\"',\n",
        " 'TEFF_NGS1_UNC \"FLOAT\"',\n",
        " 'TEFF_ANNSR_UNC \"FLOAT\"',\n",
        " 'TEFF_ANNRR_UNC \"FLOAT\"',\n",
        " 'TEFF_WBG_UNC \"FLOAT\"',\n",
        " 'TEFF_K24_UNC \"FLOAT\"',\n",
        " 'TEFF_KI13_UNC \"FLOAT\"',\n",
        " 'LOGG_ADOP \"FLOAT\"',\n",
        " 'LOGG_ADOP_N \"INTEGER\"',\n",
        " 'LOGG_ADOP_UNC \"FLOAT\"',\n",
        " 'LOGG_NGS2 \"FLOAT\"',\n",
        " 'LOGG_NGS1 \"FLOAT\"',\n",
        " 'LOGG_ANNSR \"FLOAT\"',\n",
        " 'LOGG_ANNRR \"FLOAT\"',\n",
        " 'LOGG_CAI1 \"FLOAT\"',\n",
        " 'LOGG_CAI2 \"FLOAT\"',\n",
        " 'LOGG_MGH \"FLOAT\"',\n",
        " 'LOGG_WBG \"FLOAT\"',\n",
        " 'LOGG_K24 \"FLOAT\"',\n",
        " 'LOGG_KI13 \"FLOAT\"',\n",
        " 'LOGG_NGS2_IND \"INTEGER\"',\n",
        " 'LOGG_NGS1_IND \"INTEGER\"',\n",
        " 'LOGG_ANNSR_IND \"INTEGER\"',\n",
        " 'LOGG_ANNRR_IND \"INTEGER\"',\n",
        " 'LOGG_CAI1_IND \"INTEGER\"',\n",
        " 'LOGG_CAI2_IND \"INTEGER\"',\n",
        " 'LOGG_MGH_IND \"INTEGER\"',\n",
        " 'LOGG_WBG_IND \"INTEGER\"',\n",
        " 'LOGG_K24_IND \"INTEGER\"',\n",
        " 'LOGG_KI13_IND \"INTEGER\"',\n",
        " 'LOGG_NGS2_UNC \"FLOAT\"',\n",
        " 'LOGG_NGS1_UNC \"FLOAT\"',\n",
        " 'LOGG_ANNSR_UNC \"FLOAT\"',\n",
        " 'LOGG_ANNRR_UNC \"FLOAT\"',\n",
        " 'LOGG_CAI1_UNC \"FLOAT\"',\n",
        " 'LOGG_CAI2_UNC \"FLOAT\"',\n",
        " 'LOGG_MGH_UNC \"FLOAT\"',\n",
        " 'LOGG_WBG_UNC \"FLOAT\"',\n",
        " 'LOGG_K24_UNC \"FLOAT\"',\n",
        " 'LOGG_KI13_UNC \"FLOAT\"',\n",
        " 'FEH_ADOP \"FLOAT\"',\n",
        " 'FEH_ADOP_N \"INTEGER\"',\n",
        " 'FEH_ADOP_UNC \"FLOAT\"',\n",
        " 'FEH_NGS2 \"FLOAT\"',\n",
        " 'FEH_NGS1 \"FLOAT\"',\n",
        " 'FEH_ANNSR \"FLOAT\"',\n",
        " 'FEH_ANNRR \"FLOAT\"',\n",
        " 'FEH_CAIIK1 \"FLOAT\"',\n",
        " 'FEH_CAIIK2 \"FLOAT\"',\n",
        " 'FEH_CAIIK3 \"FLOAT\"',\n",
        " 'FEH_ACF \"FLOAT\"',\n",
        " 'FEH_CAIIT \"FLOAT\"',\n",
        " 'FEH_WBG \"FLOAT\"',\n",
        " 'FEH_K24 \"FLOAT\"',\n",
        " 'FEH_KI13 \"FLOAT\"',\n",
        " 'FEH_NGS2_IND \"INTEGER\"',\n",
        " 'FEH_NGS1_IND \"INTEGER\"',\n",
        " 'FEH_ANNSR_IND \"INTEGER\"',\n",
        " 'FEH_ANNRR_IND \"INTEGER\"',\n",
        " 'FEH_CAIIK1_IND \"INTEGER\"',\n",
        " 'FEH_CAIIK2_IND \"INTEGER\"',\n",
        " 'FEH_CAIIK3_IND \"INTEGER\"',\n",
        " 'FEH_ACF_IND \"INTEGER\"',\n",
        " 'FEH_CAIIT_IND \"INTEGER\"',\n",
        " 'FEH_WBG_IND \"INTEGER\"',\n",
        " 'FEH_K24_IND \"INTEGER\"',\n",
        " 'FEH_KI13_IND \"INTEGER\"',\n",
        " 'FEH_NGS2_UNC \"FLOAT\"',\n",
        " 'FEH_NGS1_UNC \"FLOAT\"',\n",
        " 'FEH_ANNSR_UNC \"FLOAT\"',\n",
        " 'FEH_ANNRR_UNC \"FLOAT\"',\n",
        " 'FEH_CAIIK1_UNC \"FLOAT\"',\n",
        " 'FEH_CAIIK2_UNC \"FLOAT\"',\n",
        " 'FEH_CAIIK3_UNC \"FLOAT\"',\n",
        " 'FEH_ACF_UNC \"FLOAT\"',\n",
        " 'FEH_CAIIT_UNC \"FLOAT\"',\n",
        " 'FEH_WBG_UNC \"FLOAT\"',\n",
        " 'FEH_K24_UNC \"FLOAT\"',\n",
        " 'FEH_KI13_UNC \"FLOAT\"',\n",
        " 'AFE \"FLOAT\"',\n",
        " 'AFE_IND \"INTEGER\"',\n",
        " 'AFE_UNC \"FLOAT\"',\n",
        " 'DIST_DWARF \"FLOAT\"',\n",
        " 'DIST_TO \"FLOAT\"',\n",
        " 'DIST_GIANT \"FLOAT\"',\n",
        " 'DIST_AGB \"FLOAT\"',\n",
        " 'DIST_FHB \"FLOAT\"',\n",
        " 'DIST_AP \"FLOAT\"',\n",
        " 'DIST_Z \"FLOAT\"',\n",
        " 'RV_FLAG \"TEXT\"',\n",
        " 'RV_ADOP \"FLOAT\"',\n",
        " 'RV_ADOP_UNC \"FLOAT\"',\n",
        " 'RV_CAL \"FLOAT\"',\n",
        " 'RV_CAL_UNC \"FLOAT\"',\n",
        " 'RV_BS \"FLOAT\"',\n",
        " 'RV_BS_UNC \"FLOAT\"',\n",
        " 'RV_ELODIE \"FLOAT\"',\n",
        " 'RV_ELODIE_UNC \"FLOAT\"',\n",
        " 'RV_GSR \"FLOAT\"',\n",
        " 'RV_GSR_UNC \"FLOAT\"',\n",
        " 'V_MAG \"FLOAT\"',\n",
        " 'BV \"FLOAT\"',\n",
        " 'BV_BALMER \"FLOAT\"',\n",
        " 'GR_PREDICT \"FLOAT\"',\n",
        " 'GR_HA24 \"FLOAT\"',\n",
        " 'GR_HD24 \"FLOAT\"',\n",
        " 'GR_HP \"FLOAT\"',\n",
        " 'G_MAG \"FLOAT\"',\n",
        " 'UG \"FLOAT\"',\n",
        " 'GR \"FLOAT\"',\n",
        " 'RI \"FLOAT\"',\n",
        " 'IZ \"FLOAT\"',\n",
        " 'U_MAG_UNC \"FLOAT\"',\n",
        " 'G_MAG_UNC \"FLOAT\"',\n",
        " 'R_MAG_UNC \"FLOAT\"',\n",
        " 'I_MAG_UNC \"FLOAT\"',\n",
        " 'Z_MAG_UNC \"FLOAT\"',\n",
        " 'EBV \"FLOAT\"',\n",
        " 'SNR \"FLOAT\"',\n",
        " 'QA \"INTEGER\"',\n",
        " 'CC_CAHK \"FLOAT\"',\n",
        " 'CC_MGH \"FLOAT\"',\n",
        " 'RA \"FLOAT\"',\n",
        " 'DEC \"FLOAT\"',\n",
        " 'L \"FLOAT\"',\n",
        " 'B \"FLOAT\"',\n",
        " 'TEFF_SPEC \"FLOAT\"',\n",
        " 'TEFF_SPEC_N \"INTEGER\"',\n",
        " 'TEFF_SPEC_UNC \"FLOAT\"',\n",
        " 'LOGG_SPEC \"FLOAT\"',\n",
        " 'LOGG_SPEC_N \"INTEGER\"',\n",
        " 'LOGG_SPEC_UNC \"FLOAT\"',\n",
        " 'FEH_SPEC \"FLOAT\"',\n",
        " 'FEH_SPEC_N \"INTEGER\"',\n",
        " 'FEH_SPEC_UNC \"FLOAT\"',\n",
        " 'TEFF_COL \"FLOAT\"',\n",
        " 'TEFF_COL_UNC \"FLOAT\"',\n",
        " 'FEH_TFIX_NGS2 \"FLOAT\"',\n",
        " 'FEH_TFIX_NGS1 \"FLOAT\"',\n",
        " 'LOGG_TFIX_NGS2 \"FLOAT\"',\n",
        " 'LOGG_TFIX_NGS1 \"FLOAT\"',\n",
        " 'FEH_TFIX_NGS2_UNC \"FLOAT\"',\n",
        " 'FEH_TFIX_NGS1_UNC \"FLOAT\"',\n",
        " 'LOGG_TFIX_NGS2_UNC \"FLOAT\"',\n",
        " 'LOGG_TFIX_NGS1_UNC \"FLOAT\"',\n",
        " 'FEH_TFIX_CAIIK1 \"FLOAT\"',\n",
        " 'FEH_TFIX_CAIIK1_UNC \"FLOAT\"',\n",
        " 'ACF1 \"FLOAT\"',\n",
        " 'ACF1_SNR \"FLOAT\"',\n",
        " 'ACF2 \"FLOAT\"',\n",
        " 'ACF2_SNR \"FLOAT\"',\n",
        " 'INSPECT \"TEXT\"',\n",
        " 'ELODIERVFINAL \"FLOAT\"',\n",
        " 'ELODIERVFINALERR \"FLOAT\"',\n",
        " 'ZWARNING \"INTEGER\"',\n",
        " 'SURVEY \"TEXT\"',\n",
        " 'PRIMTARGET \"INTEGER\"',\n",
        " 'SECTARGET \"INTEGER\"',\n",
        " 'SEGUE1_TARGET1 \"INTEGER\"',\n",
        " 'SEGUE1_TARGET2 \"INTEGER\"',\n",
        " 'SEGUE2_TARGET1 \"INTEGER\"',\n",
        " 'SEGUE2_TARGET2 \"INTEGER\"',\n",
        " 'L_CLASS \"TEXT\"',\n",
        " 'DIST_ADOP \"FLOAT\"',\n",
        " 'MP_FLAG \"TEXT\"',\n",
        " 'TEFF_IRFM \"FLOAT\"',\n",
        " 'TEFF_IRFM_IND \"INTEGER\"',\n",
        " 'TEFF_IRFM_UNC \"FLOAT\"',\n",
        " 'LOGG_NGS1_IRFM \"FLOAT\"',\n",
        " 'LOGG_NGS1_IRFM_IND \"INTEGER\"',\n",
        " 'LOGG_NGS1_IRFM_UNC \"FLOAT\"',\n",
        " 'FEH_NGS1_IRFM \"FLOAT\"',\n",
        " 'FEH_NGS1_IRFM_IND \"INTEGER\"',\n",
        " 'FEH_NGS1_IRFM_UNC \"FLOAT\"',\n",
        " 'LOGG_CAI1_IRFM \"FLOAT\"',\n",
        " 'LOGG_CAI1_IRFM_IND \"INTEGER\"',\n",
        " 'LOGG_CAI1_IRFM_UNC \"FLOAT\"',\n",
        " 'FEH_CAIIK1_IRFM \"FLOAT\"',\n",
        " 'FEH_CAIIK1_IRFM_IND \"INTEGER\"',\n",
        " 'FEH_CAIIK1_IRFM_UNC \"FLOAT\"']"
       ]
      }
     ],
     "prompt_number": 30
    },
    {
     "cell_type": "code",
     "collapsed": false,
     "input": [
      "s = \", \".join(sqltypes)\n",
      "#print s\n",
      "print\"CREATE TABLE stars ({});\".format(s)"
     ],
     "language": "python",
     "metadata": {},
     "outputs": [
      {
       "output_type": "stream",
       "stream": "stdout",
       "text": [
        "CREATE TABLE stars (SPECOBJID \"TEXT\", PLATEID \"TEXT\", BESTOBJID \"TEXT\", FLUXOBJID \"TEXT\", TARGETOBJID \"TEXT\", SPECPRIMARY \"INTEGER\", SPECLEGACY \"INTEGER\", SPECSEGUE \"INTEGER\", SPECSEGUE1 \"INTEGER\", SPECSEGUE2 \"INTEGER\", PLUG_RA \"FLOAT\", PLUG_DEC \"FLOAT\", LEGACY_TARGET1 \"INTEGER\", LEGACY_TARGET2 \"INTEGER\", SPECIAL_TARGET1 \"INTEGER\", SPECIAL_TARGET2 \"INTEGER\", FIRSTRELEASE \"TEXT\", PROGRAMNAME \"TEXT\", CHUNK \"TEXT\", PLATERUN \"TEXT\", RUNSSPP \"TEXT\", RUN1D \"TEXT\", RUN2D \"TEXT\", MJD \"INTEGER\", PLATE \"INTEGER\", FIBER \"INTEGER\", PRIM_TARGET \"TEXT\", SPECTYPE_HAMMER \"TEXT\", SPECTYPE_SUBCLASS \"TEXT\", FLAG \"TEXT\", TEFF_ADOP \"FLOAT\", TEFF_ADOP_N \"INTEGER\", TEFF_ADOP_UNC \"FLOAT\", TEFF_HA24 \"FLOAT\", TEFF_HD24 \"FLOAT\", TEFF_TK \"FLOAT\", TEFF_TG \"FLOAT\", TEFF_TI \"FLOAT\", TEFF_NGS1 \"FLOAT\", TEFF_ANNSR \"FLOAT\", TEFF_ANNRR \"FLOAT\", TEFF_WBG \"FLOAT\", TEFF_K24 \"FLOAT\", TEFF_KI13 \"FLOAT\", TEFF_HA24_IND \"INTEGER\", TEFF_HD24_IND \"INTEGER\", TEFF_TK_IND \"INTEGER\", TEFF_TG_IND \"INTEGER\", TEFF_TI_IND \"INTEGER\", TEFF_NGS1_IND \"INTEGER\", TEFF_ANNSR_IND \"INTEGER\", TEFF_ANNRR_IND \"INTEGER\", TEFF_WBG_IND \"INTEGER\", TEFF_K24_IND \"INTEGER\", TEFF_KI13_IND \"INTEGER\", TEFF_HA24_UNC \"FLOAT\", TEFF_HD24_UNC \"FLOAT\", TEFF_TK_UNC \"FLOAT\", TEFF_TG_UNC \"FLOAT\", TEFF_TI_UNC \"FLOAT\", TEFF_NGS1_UNC \"FLOAT\", TEFF_ANNSR_UNC \"FLOAT\", TEFF_ANNRR_UNC \"FLOAT\", TEFF_WBG_UNC \"FLOAT\", TEFF_K24_UNC \"FLOAT\", TEFF_KI13_UNC \"FLOAT\", LOGG_ADOP \"FLOAT\", LOGG_ADOP_N \"INTEGER\", LOGG_ADOP_UNC \"FLOAT\", LOGG_NGS2 \"FLOAT\", LOGG_NGS1 \"FLOAT\", LOGG_ANNSR \"FLOAT\", LOGG_ANNRR \"FLOAT\", LOGG_CAI1 \"FLOAT\", LOGG_CAI2 \"FLOAT\", LOGG_MGH \"FLOAT\", LOGG_WBG \"FLOAT\", LOGG_K24 \"FLOAT\", LOGG_KI13 \"FLOAT\", LOGG_NGS2_IND \"INTEGER\", LOGG_NGS1_IND \"INTEGER\", LOGG_ANNSR_IND \"INTEGER\", LOGG_ANNRR_IND \"INTEGER\", LOGG_CAI1_IND \"INTEGER\", LOGG_CAI2_IND \"INTEGER\", LOGG_MGH_IND \"INTEGER\", LOGG_WBG_IND \"INTEGER\", LOGG_K24_IND \"INTEGER\", LOGG_KI13_IND \"INTEGER\", LOGG_NGS2_UNC \"FLOAT\", LOGG_NGS1_UNC \"FLOAT\", LOGG_ANNSR_UNC \"FLOAT\", LOGG_ANNRR_UNC \"FLOAT\", LOGG_CAI1_UNC \"FLOAT\", LOGG_CAI2_UNC \"FLOAT\", LOGG_MGH_UNC \"FLOAT\", LOGG_WBG_UNC \"FLOAT\", LOGG_K24_UNC \"FLOAT\", LOGG_KI13_UNC \"FLOAT\", FEH_ADOP \"FLOAT\", FEH_ADOP_N \"INTEGER\", FEH_ADOP_UNC \"FLOAT\", FEH_NGS2 \"FLOAT\", FEH_NGS1 \"FLOAT\", FEH_ANNSR \"FLOAT\", FEH_ANNRR \"FLOAT\", FEH_CAIIK1 \"FLOAT\", FEH_CAIIK2 \"FLOAT\", FEH_CAIIK3 \"FLOAT\", FEH_ACF \"FLOAT\", FEH_CAIIT \"FLOAT\", FEH_WBG \"FLOAT\", FEH_K24 \"FLOAT\", FEH_KI13 \"FLOAT\", FEH_NGS2_IND \"INTEGER\", FEH_NGS1_IND \"INTEGER\", FEH_ANNSR_IND \"INTEGER\", FEH_ANNRR_IND \"INTEGER\", FEH_CAIIK1_IND \"INTEGER\", FEH_CAIIK2_IND \"INTEGER\", FEH_CAIIK3_IND \"INTEGER\", FEH_ACF_IND \"INTEGER\", FEH_CAIIT_IND \"INTEGER\", FEH_WBG_IND \"INTEGER\", FEH_K24_IND \"INTEGER\", FEH_KI13_IND \"INTEGER\", FEH_NGS2_UNC \"FLOAT\", FEH_NGS1_UNC \"FLOAT\", FEH_ANNSR_UNC \"FLOAT\", FEH_ANNRR_UNC \"FLOAT\", FEH_CAIIK1_UNC \"FLOAT\", FEH_CAIIK2_UNC \"FLOAT\", FEH_CAIIK3_UNC \"FLOAT\", FEH_ACF_UNC \"FLOAT\", FEH_CAIIT_UNC \"FLOAT\", FEH_WBG_UNC \"FLOAT\", FEH_K24_UNC \"FLOAT\", FEH_KI13_UNC \"FLOAT\", AFE \"FLOAT\", AFE_IND \"INTEGER\", AFE_UNC \"FLOAT\", DIST_DWARF \"FLOAT\", DIST_TO \"FLOAT\", DIST_GIANT \"FLOAT\", DIST_AGB \"FLOAT\", DIST_FHB \"FLOAT\", DIST_AP \"FLOAT\", DIST_Z \"FLOAT\", RV_FLAG \"TEXT\", RV_ADOP \"FLOAT\", RV_ADOP_UNC \"FLOAT\", RV_CAL \"FLOAT\", RV_CAL_UNC \"FLOAT\", RV_BS \"FLOAT\", RV_BS_UNC \"FLOAT\", RV_ELODIE \"FLOAT\", RV_ELODIE_UNC \"FLOAT\", RV_GSR \"FLOAT\", RV_GSR_UNC \"FLOAT\", V_MAG \"FLOAT\", BV \"FLOAT\", BV_BALMER \"FLOAT\", GR_PREDICT \"FLOAT\", GR_HA24 \"FLOAT\", GR_HD24 \"FLOAT\", GR_HP \"FLOAT\", G_MAG \"FLOAT\", UG \"FLOAT\", GR \"FLOAT\", RI \"FLOAT\", IZ \"FLOAT\", U_MAG_UNC \"FLOAT\", G_MAG_UNC \"FLOAT\", R_MAG_UNC \"FLOAT\", I_MAG_UNC \"FLOAT\", Z_MAG_UNC \"FLOAT\", EBV \"FLOAT\", SNR \"FLOAT\", QA \"INTEGER\", CC_CAHK \"FLOAT\", CC_MGH \"FLOAT\", RA \"FLOAT\", DEC \"FLOAT\", L \"FLOAT\", B \"FLOAT\", TEFF_SPEC \"FLOAT\", TEFF_SPEC_N \"INTEGER\", TEFF_SPEC_UNC \"FLOAT\", LOGG_SPEC \"FLOAT\", LOGG_SPEC_N \"INTEGER\", LOGG_SPEC_UNC \"FLOAT\", FEH_SPEC \"FLOAT\", FEH_SPEC_N \"INTEGER\", FEH_SPEC_UNC \"FLOAT\", TEFF_COL \"FLOAT\", TEFF_COL_UNC \"FLOAT\", FEH_TFIX_NGS2 \"FLOAT\", FEH_TFIX_NGS1 \"FLOAT\", LOGG_TFIX_NGS2 \"FLOAT\", LOGG_TFIX_NGS1 \"FLOAT\", FEH_TFIX_NGS2_UNC \"FLOAT\", FEH_TFIX_NGS1_UNC \"FLOAT\", LOGG_TFIX_NGS2_UNC \"FLOAT\", LOGG_TFIX_NGS1_UNC \"FLOAT\", FEH_TFIX_CAIIK1 \"FLOAT\", FEH_TFIX_CAIIK1_UNC \"FLOAT\", ACF1 \"FLOAT\", ACF1_SNR \"FLOAT\", ACF2 \"FLOAT\", ACF2_SNR \"FLOAT\", INSPECT \"TEXT\", ELODIERVFINAL \"FLOAT\", ELODIERVFINALERR \"FLOAT\", ZWARNING \"INTEGER\", SURVEY \"TEXT\", PRIMTARGET \"INTEGER\", SECTARGET \"INTEGER\", SEGUE1_TARGET1 \"INTEGER\", SEGUE1_TARGET2 \"INTEGER\", SEGUE2_TARGET1 \"INTEGER\", SEGUE2_TARGET2 \"INTEGER\", L_CLASS \"TEXT\", DIST_ADOP \"FLOAT\", MP_FLAG \"TEXT\", TEFF_IRFM \"FLOAT\", TEFF_IRFM_IND \"INTEGER\", TEFF_IRFM_UNC \"FLOAT\", LOGG_NGS1_IRFM \"FLOAT\", LOGG_NGS1_IRFM_IND \"INTEGER\", LOGG_NGS1_IRFM_UNC \"FLOAT\", FEH_NGS1_IRFM \"FLOAT\", FEH_NGS1_IRFM_IND \"INTEGER\", FEH_NGS1_IRFM_UNC \"FLOAT\", LOGG_CAI1_IRFM \"FLOAT\", LOGG_CAI1_IRFM_IND \"INTEGER\", LOGG_CAI1_IRFM_UNC \"FLOAT\", FEH_CAIIK1_IRFM \"FLOAT\", FEH_CAIIK1_IRFM_IND \"INTEGER\", FEH_CAIIK1_IRFM_UNC \"FLOAT\");\n"
       ]
      }
     ],
     "prompt_number": 34
    },
    {
     "cell_type": "code",
     "collapsed": false,
     "input": [
      "for j in table[:5] :print j"
     ],
     "language": "python",
     "metadata": {},
     "outputs": [
      {
       "output_type": "stream",
       "stream": "stdout",
       "text": [
        "('    299489676975171584', '299489402097264640 ', '1237648720142401611', '1237648720142401611', '       284722522357889', 0, 0, 0, 0, 0, 146.71421, -1.0413043, 96, 0, 0, 0, 'dr7', 'legacy                 ', 'chunk4          ', 'chunk4          ', '122', ' ', '26 ', 51602, 266, 1, 'GAL          ', 'K4  ', '00                  ', 'VCnnX', -9999.0, 0, -9999.0, 3875.68798828125, -9999.0, 4241.14111328125, 4448.38232421875, 4400.6181640625, -9999.0, 4724.796875, 5036.90087890625, -9999.0, -9999.0, -9999.0, 0, 0, 0, 0, 0, 0, 0, 0, 0, 0, 0, 43.75122833251953, -9999.0, 87.7820053100586, 66.4508285522461, 64.16357421875, -9999.0, 696.0, 233.5382537841797, -9999.0, -9999.0, -9999.0, -9999.0, 0, -9999.0, -9999.0, -9999.0, 2.1551640033721924, 2.0137481689453125, -9999.0, -9999.0, -9999.0, -9999.0, -9999.0, -9999.0, 0, 0, 0, 0, 0, 0, 0, 0, 0, 0, -9999.0, -9999.0, 1.4249999523162842, 0.5227000117301941, -9999.0, -9999.0, -9999.0, -9999.0, -9999.0, -9999.0, -9999.0, 0, -9999.0, -9999.0, -9999.0, -9999.0, -3.289991617202759, -9999.0, -4.072186470031738, -9999.0, -1.1790000200271606, -2.874000072479248, -9999.0, -9999.0, -9999.0, 0, 0, 0, 0, 0, 0, 0, 0, 0, 0, 0, 0, -9999.0, -9999.0, -9999.0, 0.1835000067949295, -9999.0, 0.15000000596046448, -9999.0, 0.25, 0.25, -9999.0, -9999.0, -9999.0, -9999.0, 0, -9999.0, -9999.0, -9999.0, -9999.0, -9999.0, -9999.0, -9999.0, -9999.0, 'NORV', -9999.0, -9999.0, -9999.0, -9999.0, -9999.0, -9999.0, -9999.0, -9999.0, -9999.0, -9999.0, 16.772584915161133, 0.8926489353179932, 0.968999981880188, 0.9969085454940796, -9999.0, -9999.0, 0.9969085454940796, 17.208755493164062, 1.6090564727783203, 0.7703590393066406, 0.5147733688354492, 0.3075418472290039, 0.027563173323869705, 0.01621273346245289, 0.01446982566267252, 0.01625334471464157, 0.014364318922162056, 0.055224958807229996, 38.30031204223633, 1, 0.0, 0.0, 146.71421, -1.0413043, 237.6600163239922, 37.46119570448809, -9999.0, 0, -9999.0, -9999.0, 0, -9999.0, -9999.0, 0, -9999.0, -9999.0, -9999.0, -9999.0, -9999.0, -9999.0, -9999.0, -9999.0, -9999.0, -9999.0, -9999.0, -9.99899959564209, -9.99899959564209, 0.6729999780654907, 17.664337158203125, 0.699999988079071, 17.403972625732422, 'FnnnnC', -9999.0, -9999.0, 0, 'sdss  ', 96, 0, 0, 0, 0, 0, 'NA  ', -9999.0, 'NO', -9999.0, 0, -9999.0, -9999.0, 0, -9999.0, -9999.0, 0, -9999.0, -9999.0, 0, -9999.0, -9999.0, 0, -9999.0)\n",
        "('    299489951853078528', '299489402097264640 ', '1237648720142532891', '1237648720142532891', '       284722522489067', 0, 0, 0, 0, 0, 146.91945, -0.99049175, 64, 0, 0, 0, 'dr7', 'legacy                 ', 'chunk4          ', 'chunk4          ', '122', ' ', '26 ', 51602, 266, 2, 'GAL          ', ' sdK', '00                  ', 'VnnnR', -9999.0, 0, -9999.0, 4660.3818359375, -9999.0, 3741.30126953125, 4015.05908203125, 4114.28857421875, -9999.0, 4839.3193359375, 5341.97705078125, -9999.0, -9999.0, -9999.0, 0, 0, 0, 0, 0, 0, 0, 0, 0, 0, 0, 174.4580078125, -9999.0, 32.04264450073242, 36.36598587036133, 7.30029296875, -9999.0, 811.0, 158.2235565185547, -9999.0, -9999.0, -9999.0, -9999.0, 0, -9999.0, -9999.0, -9999.0, 1.944591999053955, 2.576404094696045, -9999.0, -9999.0, -9999.0, -9999.0, -9999.0, -9999.0, 0, 0, 0, 0, 0, 0, 0, 0, 0, 0, -9999.0, -9999.0, 1.5360000133514404, 0.4352000057697296, -9999.0, -9999.0, -9999.0, -9999.0, -9999.0, -9999.0, -9999.0, 0, -9999.0, -9999.0, -9999.0, -0.31827500462532043, -2.307645797729492, -9999.0, -9999.0, -9999.0, -9999.0, -9999.0, -9999.0, -9999.0, -9999.0, 0, 0, 0, 0, 0, 0, 0, 0, 0, 0, 0, 0, -9999.0, -9999.0, 1.6959999799728394, 0.2624000012874603, -9999.0, -9999.0, -9999.0, -9999.0, -9999.0, -9999.0, -9999.0, -9999.0, -9999.0, 0, -9999.0, -9999.0, -9999.0, -9999.0, -9999.0, -9999.0, -9999.0, -9999.0, 'NORV', -9999.0, -9999.0, -9999.0, -9999.0, -9999.0, -9999.0, -9999.0, -9999.0, -9999.0, -9999.0, 19.583656311035156, 1.4139719009399414, 0.699999988079071, 1.1830412149429321, -9999.0, -9999.0, 1.1830412149429321, 20.339109420776367, 2.1166038513183594, 1.3394889831542969, 0.37786865234375, 0.3839836120605469, 0.25449496507644653, 0.033874958753585815, 0.017765743657946587, 0.017281895503401756, 0.02871052548289299, 0.059831008315086365, 6.348778247833252, 5, 0.0, 0.0, 146.91945, -0.99049175, 237.7606677513893, 37.65696565713361, -9999.0, 0, -9999.0, -9999.0, 0, -9999.0, -9999.0, 0, -9999.0, -9999.0, -9999.0, -9999.0, -9999.0, -9999.0, -9999.0, -9999.0, -9999.0, -9999.0, -9999.0, -9.99899959564209, -9.99899959564209, -9.99899959564209, 1.870936632156372, -9.99899959564209, 1.7939386367797852, 'FnnnnC', -9999.0, -9999.0, 0, 'sdss  ', 64, 0, 0, 0, 0, 0, 'NA  ', -9999.0, 'NO', -9999.0, 0, -9999.0, -9999.0, 0, -9999.0, -9999.0, 0, -9999.0, -9999.0, 0, -9999.0, -9999.0, 0, -9999.0)\n",
        "('    299490226730985472', '299489402097264640 ', '1237648720142532813', '1237648720142532813', '       284722522489016', 0, 0, 0, 0, 0, 146.90229, -0.98491332, 34603008, 0, 0, 0, 'dr7', 'legacy                 ', 'chunk4          ', 'chunk4          ', '122', ' ', '26 ', 51602, 266, 3, 'TO           ', 'NA  ', 'QSO                 ', 'EnnnX', -9999.0, 0, -9999.0, 6709.71630859375, 5968.412109375, 7625.80859375, 7433.29541015625, 7479.59375, -9999.0, 6271.34765625, 5278.62158203125, -9999.0, -9999.0, -9999.0, 0, 0, 0, 0, 0, 0, 0, 0, 0, 0, 0, 367.0097351074219, 249.400146484375, 143.66212463378906, 135.1338653564453, 120.6689453125, -9999.0, 1082.0, 403.8936767578125, -9999.0, -9999.0, -9999.0, -9999.0, 0, -9999.0, -9999.0, -9999.0, 3.9571080207824707, 3.0457849502563477, -9999.0, -9999.0, -9999.0, -9999.0, -9999.0, -9999.0, 0, 0, 0, 0, 0, 0, 0, 0, 0, 0, -9999.0, -9999.0, 1.9789999723434448, 0.22179999947547913, -9999.0, -9999.0, -9999.0, -9999.0, -9999.0, -9999.0, -9999.0, 0, -9999.0, -9999.0, -9999.0, 0.8709443211555481, -2.539363384246826, -9999.0, -9999.0, -9999.0, -9999.0, -9999.0, -9999.0, -9999.0, -9999.0, 0, 0, 0, 0, 0, 0, 0, 0, 0, 0, 0, 0, -9999.0, -9999.0, 1.8240000009536743, 0.35370001196861267, -9999.0, -9999.0, -9999.0, -9999.0, -9999.0, -9999.0, -9999.0, -9999.0, -9999.0, 0, -9999.0, -9999.0, -9999.0, -9999.0, -9999.0, -9999.0, -9999.0, -9999.0, 'NORV', -9999.0, -9999.0, -9999.0, -9999.0, -9999.0, -9999.0, -9999.0, -9999.0, -9999.0, -9999.0, 19.351726531982422, 0.21063870191574097, 0.28999999165534973, 0.1736668348312378, -9999.0, -9999.0, 0.1736668348312378, 19.370203018188477, 0.34456825256347656, 0.025806427001953125, 0.09974479675292969, 0.021589279174804688, 0.037839002907276154, 0.025099435821175575, 0.019835522398352623, 0.022364776581525803, 0.059188615530729294, 0.0587305910885334, 4.552968978881836, 6, 0.0, 0.0, 146.90229, -0.98491332, 237.74220464150937, 37.6463915324527, -9999.0, 0, -9999.0, -9999.0, 0, -9999.0, -9999.0, 0, -9999.0, -9999.0, -9999.0, -9999.0, -9999.0, -9999.0, -9999.0, -9999.0, -9999.0, -9999.0, -9999.0, -9.99899959564209, -9.99899959564209, -9.99899959564209, 3.4146199226379395, -9.99899959564209, 3.3843417167663574, 'FnnnnC', -9999.0, -9999.0, 0, 'sdss  ', 34603008, 0, 0, 0, 0, 0, 'NA  ', -9999.0, 'NO', -9999.0, 0, -9999.0, -9999.0, 0, -9999.0, -9999.0, 0, -9999.0, -9999.0, 0, -9999.0, -9999.0, 0, -9999.0)\n",
        "('    299490501608892416', '299489402097264640 ', '1237650795146576030', '1237650795146576030', '       284705867301092', 0, 0, 0, 0, 0, 146.85983, -0.80890165, 96, 0, 0, 0, 'dr7', 'legacy                 ', 'chunk4          ', 'chunk4          ', '122', ' ', '26 ', 51602, 266, 4, 'GAL          ', 'usdK', '00                  ', 'VnnnR', -9999.0, 0, -9999.0, -9999.0, 6465.72265625, 3708.57275390625, 3976.666259765625, 4106.73828125, -9999.0, 5957.4814453125, 6188.126953125, -9999.0, -9999.0, -9999.0, 0, 0, 0, 0, 0, 0, 0, 0, 0, 0, 0, -9999.0, 344.4405212402344, 23.043373107910156, 27.96681022644043, 3.8896484375, -9999.0, 922.0, 278.1530456542969, -9999.0, -9999.0, -9999.0, -9999.0, 0, -9999.0, -9999.0, -9999.0, 4.307486057281494, 3.0621323585510254, -9999.0, -9999.0, -9999.0, -9999.0, -9999.0, -9999.0, 0, 0, 0, 0, 0, 0, 0, 0, 0, 0, -9999.0, -9999.0, 0.5630000233650208, 0.2410999983549118, -9999.0, -9999.0, -9999.0, -9999.0, -9999.0, -9999.0, -9999.0, 0, -9999.0, -9999.0, -9999.0, -2.376596450805664, -1.8350002765655518, -9999.0, -9999.0, -9999.0, -9999.0, -9999.0, -9999.0, -9999.0, -9999.0, 0, 0, 0, 0, 0, 0, 0, 0, 0, 0, 0, 0, -9999.0, -9999.0, 2.563999891281128, 0.3237999975681305, -9999.0, -9999.0, -9999.0, -9999.0, -9999.0, -9999.0, -9999.0, -9999.0, -9999.0, 0, -9999.0, -9999.0, -9999.0, -9999.0, -9999.0, -9999.0, -9999.0, -9999.0, 'NORV', -9999.0, -9999.0, -9999.0, -9999.0, -9999.0, -9999.0, -9999.0, -9999.0, -9999.0, -9999.0, 19.269025802612305, 1.4397578239440918, -9999.0, 1.3658591508865356, -9999.0, -9999.0, 1.3658591508865356, 20.040271759033203, 2.2231216430664062, 1.3676395416259766, 0.5553226470947266, 0.5263500213623047, 0.349739670753479, 0.023289551958441734, 0.01655535399913788, 0.01442805677652359, 0.022208204492926598, 0.05651336535811424, 9.192142486572266, 5, 0.0, 0.0, 146.85983, -0.80890165, 237.53080737746353, 37.71561189698721, -9999.0, 0, -9999.0, -9999.0, 0, -9999.0, -9999.0, 0, -9999.0, -9999.0, -9999.0, -9999.0, -9999.0, -9999.0, -9999.0, -9999.0, -9999.0, -9999.0, -9999.0, -9.99899959564209, -9.99899959564209, -9.99899959564209, 2.3078389167785645, -9.99899959564209, 2.3154120445251465, 'FnnnnC', -9999.0, -9999.0, 0, 'sdss  ', 96, 0, 0, 0, 0, 0, 'NA  ', -9999.0, 'NO', -9999.0, 0, -9999.0, -9999.0, 0, -9999.0, -9999.0, 0, -9999.0, -9999.0, 0, -9999.0, -9999.0, 0, -9999.0)\n",
        "('    299490776486799360', '299489402097264640 ', '1237650795146510903', '1237650795146510903', '       284705867235621', 0, 0, 0, 0, 0, 146.76339, -0.81043316, 2097184, 0, 0, 0, 'dr7', 'legacy                 ', 'chunk4          ', 'chunk4          ', '122', ' ', '26 ', 51602, 266, 5, 'GAL          ', 'usdK', '00                  ', 'VnnnR', -9999.0, 0, -9999.0, 4733.43359375, 6953.65087890625, 3436.880126953125, 3434.1279296875, 4197.6533203125, -9999.0, 6840.9296875, 6108.32958984375, -9999.0, -9999.0, -9999.0, 0, 0, 0, 0, 0, 0, 0, 0, 0, 0, 0, 367.7108459472656, 448.3177795410156, 31.46338653564453, 122.95995330810547, 53.0390625, -9999.0, 1206.0, 299.599853515625, -9999.0, -9999.0, -9999.0, -9999.0, 0, -9999.0, -9999.0, -9999.0, 4.781273365020752, 3.2350997924804688, -9999.0, -9999.0, -9999.0, -9999.0, -9999.0, -9999.0, 0, 0, 0, 0, 0, 0, 0, 0, 0, 0, -9999.0, -9999.0, 0.5040000081062317, 0.35760000348091125, -9999.0, -9999.0, -9999.0, -9999.0, -9999.0, -9999.0, -9999.0, 0, -9999.0, -9999.0, -9999.0, 1.2704846858978271, -0.9097047448158264, -9999.0, -9999.0, -9999.0, -9999.0, -9999.0, -9999.0, -9999.0, -9999.0, 0, 0, 0, 0, 0, 0, 0, 0, 0, 0, 0, 0, -9999.0, -9999.0, 1.3229999542236328, 0.1738000065088272, -9999.0, -9999.0, -9999.0, -9999.0, -9999.0, -9999.0, -9999.0, -9999.0, -9999.0, 0, -9999.0, -9999.0, -9999.0, -9999.0, -9999.0, -9999.0, -9999.0, -9999.0, 'NORV', -9999.0, -9999.0, -9999.0, -9999.0, -9999.0, -9999.0, -9999.0, -9999.0, -9999.0, -9999.0, 20.830724716186523, 1.7255151271820068, -9999.0, 1.439397931098938, -9999.0, -9999.0, 1.439397931098938, 21.776981353759766, 1.9282989501953125, 1.6796016693115234, 0.7376728057861328, 0.5049076080322266, 1.0385373830795288, 0.07360205054283142, 0.02748473733663559, 0.023609451949596405, 0.040142424404621124, 0.06082857400178909, 3.122999668121338, 6, 0.0, 0.0, 146.76339, -0.81043316, 237.4608455058426, 37.636650125628066, -9999.0, 0, -9999.0, -9999.0, 0, -9999.0, -9999.0, 0, -9999.0, -9999.0, -9999.0, -9999.0, -9999.0, -9999.0, -9999.0, -9999.0, -9999.0, -9999.0, -9999.0, -9.99899959564209, -9.99899959564209, -9.99899959564209, 1.5033742189407349, -9.99899959564209, 1.458745002746582, 'FnnnnC', -9999.0, -9999.0, 0, 'sdss  ', 2097184, 0, 0, 0, 0, 0, 'NA  ', -9999.0, 'NO', -9999.0, 0, -9999.0, -9999.0, 0, -9999.0, -9999.0, 0, -9999.0, -9999.0, 0, -9999.0, -9999.0, 0, -9999.0)\n"
       ]
      }
     ],
     "prompt_number": 36
    },
    {
     "cell_type": "code",
     "collapsed": false,
     "input": [
      "SQ =SQLarray(name='stars', records=table[0:100], dbfile='test4.sqlite', columns=sqltypes, cachesize=5, connection=None, is_tmp=False)"
     ],
     "language": "python",
     "metadata": {},
     "outputs": []
    },
    {
     "cell_type": "code",
     "collapsed": false,
     "input": [
      "recs = []\n",
      "for i in table[0:100] : recs.append(i)"
     ],
     "language": "python",
     "metadata": {},
     "outputs": [],
     "prompt_number": 39
    },
    {
     "cell_type": "code",
     "collapsed": false,
     "input": [
      "SQ =SQLarray(name='stars', records=recs, dbfile='test4.sqlite', columns=sqltypes, cachesize=5, connection=None, is_tmp=False)"
     ],
     "language": "python",
     "metadata": {},
     "outputs": [
      {
       "output_type": "stream",
       "stream": "stderr",
       "text": [
        "'list' object has no attribute 'dtype'ERROR: You are probably feeding a recarray; sqlite does not know how to \n",
        "       deal with special numpy types such as int32 or int64. Try using the \n",
        "       recsql.SQLarray_fromfile() function or feed simple records (see docs).ERROR:astropy:OperationalError: near \"\"TEXT\"\": syntax error\n"
       ]
      },
      {
       "output_type": "stream",
       "stream": "stdout",
       "text": [
        "\u001b[0;31mERROR\u001b[0m: OperationalError: near \"\"TEXT\"\": syntax error [recsql.sqlarray]\n"
       ]
      },
      {
       "ename": "OperationalError",
       "evalue": "near \"\"TEXT\"\": syntax error",
       "output_type": "pyerr",
       "traceback": [
        "\u001b[0;31m---------------------------------------------------------------------------\u001b[0m\n\u001b[0;31mOperationalError\u001b[0m                          Traceback (most recent call last)",
        "\u001b[0;32m<ipython-input-40-af2e7b713a3d>\u001b[0m in \u001b[0;36m<module>\u001b[0;34m()\u001b[0m\n\u001b[0;32m----> 1\u001b[0;31m \u001b[0mSQ\u001b[0m \u001b[0;34m=\u001b[0m\u001b[0mSQLarray\u001b[0m\u001b[0;34m(\u001b[0m\u001b[0mname\u001b[0m\u001b[0;34m=\u001b[0m\u001b[0;34m'stars'\u001b[0m\u001b[0;34m,\u001b[0m \u001b[0mrecords\u001b[0m\u001b[0;34m=\u001b[0m\u001b[0mrecs\u001b[0m\u001b[0;34m,\u001b[0m \u001b[0mdbfile\u001b[0m\u001b[0;34m=\u001b[0m\u001b[0;34m'test4.sqlite'\u001b[0m\u001b[0;34m,\u001b[0m \u001b[0mcolumns\u001b[0m\u001b[0;34m=\u001b[0m\u001b[0msqltypes\u001b[0m\u001b[0;34m,\u001b[0m \u001b[0mcachesize\u001b[0m\u001b[0;34m=\u001b[0m\u001b[0;36m5\u001b[0m\u001b[0;34m,\u001b[0m \u001b[0mconnection\u001b[0m\u001b[0;34m=\u001b[0m\u001b[0mNone\u001b[0m\u001b[0;34m,\u001b[0m \u001b[0mis_tmp\u001b[0m\u001b[0;34m=\u001b[0m\u001b[0mFalse\u001b[0m\u001b[0;34m)\u001b[0m\u001b[0;34m\u001b[0m\u001b[0m\n\u001b[0m",
        "\u001b[0;32m/Users/Robert/anaconda/lib/python2.7/site-packages/recsql/sqlarray.pyc\u001b[0m in \u001b[0;36m__init__\u001b[0;34m(self, name, records, filename, columns, cachesize, connection, is_tmp, **kwargs)\u001b[0m\n\u001b[1;32m    228\u001b[0m                                  \u001b[0;34m\"       deal with special numpy types such as int32 or int64. Try using the \\n\"\u001b[0m\u001b[0;34m\u001b[0m\u001b[0m\n\u001b[1;32m    229\u001b[0m                                  \"       recsql.SQLarray_fromfile() function or feed simple records (see docs).\")\n\u001b[0;32m--> 230\u001b[0;31m                     \u001b[0;32mraise\u001b[0m \u001b[0merr\u001b[0m\u001b[0;34m\u001b[0m\u001b[0m\n\u001b[0m\u001b[1;32m    231\u001b[0m \u001b[0;34m\u001b[0m\u001b[0m\n\u001b[1;32m    232\u001b[0m     \u001b[0;34m@\u001b[0m\u001b[0mproperty\u001b[0m\u001b[0;34m\u001b[0m\u001b[0m\n",
        "\u001b[0;31mOperationalError\u001b[0m: near \"\"TEXT\"\": syntax error"
       ]
      }
     ],
     "prompt_number": 40
    },
    {
     "cell_type": "code",
     "collapsed": false,
     "input": [],
     "language": "python",
     "metadata": {},
     "outputs": []
    }
   ],
   "metadata": {}
  }
 ]
}